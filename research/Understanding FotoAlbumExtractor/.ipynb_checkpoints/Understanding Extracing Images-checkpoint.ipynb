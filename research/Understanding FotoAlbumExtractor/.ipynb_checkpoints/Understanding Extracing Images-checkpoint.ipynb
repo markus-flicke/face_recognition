{
 "cells": [
  {
   "cell_type": "markdown",
   "metadata": {},
   "source": [
    "### Config file in FotoAlbumExtractor\n",
    "I deleted the need of a config file for their project, because I was getting errors.  \n",
    "I think while it is great to have a Config file, theirs was not great\n",
    "* It is not able to auto complete\n",
    "* The config object had to be passed in every method definition\n",
    "* The code must be useable for our project\n",
    "    * I don't intend to incorporate their config file\n",
    "\n",
    "I propose we use a Config.py file instead\n",
    "### extract_images\n",
    "I summarised their image extraction tools in a method called `extract_images(image_path, out_path)`"
   ]
  },
  {
   "cell_type": "code",
   "execution_count": 3,
   "metadata": {},
   "outputs": [],
   "source": [
    "from src.FotoExtractor.main import extract_images"
   ]
  },
  {
   "cell_type": "code",
   "execution_count": 4,
   "metadata": {},
   "outputs": [],
   "source": [
    "in_path = './dat/album_pages/'\n",
    "out_path = './dat/extracted_photos'\n",
    "for album_page in os.listdir(in_path):\n",
    "    extract_images(in_path + album_page, out_path)"
   ]
  }
 ],
 "metadata": {
  "kernelspec": {
   "display_name": "Python 3",
   "language": "python",
   "name": "python3"
  },
  "language_info": {
   "codemirror_mode": {
    "name": "ipython",
    "version": 3
   },
   "file_extension": ".py",
   "mimetype": "text/x-python",
   "name": "python",
   "nbconvert_exporter": "python",
   "pygments_lexer": "ipython3",
   "version": "3.8.2"
  }
 },
 "nbformat": 4,
 "nbformat_minor": 4
}
