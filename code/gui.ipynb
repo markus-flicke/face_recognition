{
 "cells": [
  {
   "cell_type": "markdown",
   "metadata": {
    "pycharm": {
     "name": "#%% md\n"
    }
   },
   "source": [
    "# Face Clustering for Photo Albums\n"
   ]
  },
  {
   "cell_type": "markdown",
   "metadata": {
    "pycharm": {
     "name": "#%% md\n"
    }
   },
   "source": [
    "## Imports"
   ]
  },
  {
   "cell_type": "code",
   "execution_count": 11,
   "metadata": {
    "pycharm": {
     "is_executing": false,
     "name": "#%%\n"
    }
   },
   "outputs": [],
   "source": [
    "import warnings\n",
    "warnings.filterwarnings('ignore')\n",
    "import os\n",
    "import sys\n",
    "import numpy as np\n",
    "from pathlib import Path\n",
    "import ipywidgets as widgets\n",
    "from IPython.core.display import display\n",
    "from ipywidgets import interact, interact_manual\n",
    "from ipywidgets import Button, HBox, VBox, GridspecLayout\n",
    "import cv2 \n",
    "from matplotlib import pyplot as plt\n",
    "import src.main as main\n",
    "\n",
    "\n"
   ]
  },
  {
   "cell_type": "code",
   "execution_count": 2,
   "metadata": {},
   "outputs": [
    {
     "data": {
      "application/javascript": [
       "IPython.OutputArea.auto_scroll_threshold = 9999; // prevents collapsing of the image preview\n"
      ],
      "text/plain": [
       "<IPython.core.display.Javascript object>"
      ]
     },
     "metadata": {},
     "output_type": "display_data"
    }
   ],
   "source": [
    "%%javascript\n",
    "IPython.OutputArea.auto_scroll_threshold = 9999; // prevents collapsing of the image preview"
   ]
  },
  {
   "cell_type": "markdown",
   "metadata": {},
   "source": [
    "##  Select File Path"
   ]
  },
  {
   "cell_type": "code",
   "execution_count": 3,
   "metadata": {},
   "outputs": [],
   "source": [
    "image_folder = r\"C:\\Users\\JZH\\PycharmProjects\\face_recognition\\code\\dat\\AndreasAlbums\\A1\";"
   ]
  },
  {
   "cell_type": "markdown",
   "metadata": {},
   "source": [
    "## Extract Faces from Album / Image(s)"
   ]
  },
  {
   "cell_type": "code",
   "execution_count": 4,
   "metadata": {},
   "outputs": [
    {
     "data": {
      "application/vnd.jupyter.widget-view+json": {
       "model_id": "77acccaeb1dd4990a210eab08a9d7d7e",
       "version_major": 2,
       "version_minor": 0
      },
      "text/plain": [
       "RadioButtons(description='Mode:', options=('Scanned Album', 'Image(s)'), value='Scanned Album')"
      ]
     },
     "metadata": {},
     "output_type": "display_data"
    }
   ],
   "source": [
    "\n",
    "radio = widgets.RadioButtons(\n",
    "    options=['Scanned Album', 'Image(s)'],\n",
    "    description='Mode:',\n",
    "    disabled=False\n",
    ")\n",
    "display(radio)"
   ]
  },
  {
   "cell_type": "code",
   "execution_count": 5,
   "metadata": {},
   "outputs": [],
   "source": [
    "isAlbum = True;\n",
    "main.extract_faces_from_folder(image_folder, isAlbum);"
   ]
  },
  {
   "cell_type": "markdown",
   "metadata": {
    "pycharm": {
     "name": "#%% md\n"
    }
   },
   "source": [
    "## Get Face Embeddings"
   ]
  },
  {
   "cell_type": "code",
   "execution_count": 6,
   "metadata": {
    "pycharm": {
     "is_executing": false
    },
    "scrolled": true
   },
   "outputs": [
    {
     "name": "stdout",
     "output_type": "stream",
     "text": [
      "WARNING:tensorflow:From c:\\users\\jzh\\miniconda3\\envs\\face_recognition\\lib\\site-packages\\keras\\backend\\tensorflow_backend.py:74: The name tf.get_default_graph is deprecated. Please use tf.compat.v1.get_default_graph instead.\n",
      "\n"
     ]
    },
    {
     "name": "stderr",
     "output_type": "stream",
     "text": [
      "WARNING:tensorflow:From c:\\users\\jzh\\miniconda3\\envs\\face_recognition\\lib\\site-packages\\keras\\backend\\tensorflow_backend.py:74: The name tf.get_default_graph is deprecated. Please use tf.compat.v1.get_default_graph instead.\n",
      "\n"
     ]
    },
    {
     "name": "stdout",
     "output_type": "stream",
     "text": [
      "WARNING:tensorflow:From c:\\users\\jzh\\miniconda3\\envs\\face_recognition\\lib\\site-packages\\keras\\backend\\tensorflow_backend.py:517: The name tf.placeholder is deprecated. Please use tf.compat.v1.placeholder instead.\n",
      "\n"
     ]
    },
    {
     "name": "stderr",
     "output_type": "stream",
     "text": [
      "WARNING:tensorflow:From c:\\users\\jzh\\miniconda3\\envs\\face_recognition\\lib\\site-packages\\keras\\backend\\tensorflow_backend.py:517: The name tf.placeholder is deprecated. Please use tf.compat.v1.placeholder instead.\n",
      "\n"
     ]
    },
    {
     "name": "stdout",
     "output_type": "stream",
     "text": [
      "WARNING:tensorflow:From c:\\users\\jzh\\miniconda3\\envs\\face_recognition\\lib\\site-packages\\keras\\backend\\tensorflow_backend.py:4138: The name tf.random_uniform is deprecated. Please use tf.random.uniform instead.\n",
      "\n"
     ]
    },
    {
     "name": "stderr",
     "output_type": "stream",
     "text": [
      "WARNING:tensorflow:From c:\\users\\jzh\\miniconda3\\envs\\face_recognition\\lib\\site-packages\\keras\\backend\\tensorflow_backend.py:4138: The name tf.random_uniform is deprecated. Please use tf.random.uniform instead.\n",
      "\n"
     ]
    },
    {
     "name": "stdout",
     "output_type": "stream",
     "text": [
      "WARNING:tensorflow:From c:\\users\\jzh\\miniconda3\\envs\\face_recognition\\lib\\site-packages\\keras\\backend\\tensorflow_backend.py:174: The name tf.get_default_session is deprecated. Please use tf.compat.v1.get_default_session instead.\n",
      "\n"
     ]
    },
    {
     "name": "stderr",
     "output_type": "stream",
     "text": [
      "WARNING:tensorflow:From c:\\users\\jzh\\miniconda3\\envs\\face_recognition\\lib\\site-packages\\keras\\backend\\tensorflow_backend.py:174: The name tf.get_default_session is deprecated. Please use tf.compat.v1.get_default_session instead.\n",
      "\n"
     ]
    },
    {
     "name": "stdout",
     "output_type": "stream",
     "text": [
      "WARNING:tensorflow:From c:\\users\\jzh\\miniconda3\\envs\\face_recognition\\lib\\site-packages\\keras\\backend\\tensorflow_backend.py:181: The name tf.ConfigProto is deprecated. Please use tf.compat.v1.ConfigProto instead.\n",
      "\n"
     ]
    },
    {
     "name": "stderr",
     "output_type": "stream",
     "text": [
      "WARNING:tensorflow:From c:\\users\\jzh\\miniconda3\\envs\\face_recognition\\lib\\site-packages\\keras\\backend\\tensorflow_backend.py:181: The name tf.ConfigProto is deprecated. Please use tf.compat.v1.ConfigProto instead.\n",
      "\n"
     ]
    },
    {
     "name": "stdout",
     "output_type": "stream",
     "text": [
      "WARNING:tensorflow:From c:\\users\\jzh\\miniconda3\\envs\\face_recognition\\lib\\site-packages\\keras\\backend\\tensorflow_backend.py:186: The name tf.Session is deprecated. Please use tf.compat.v1.Session instead.\n",
      "\n"
     ]
    },
    {
     "name": "stderr",
     "output_type": "stream",
     "text": [
      "WARNING:tensorflow:From c:\\users\\jzh\\miniconda3\\envs\\face_recognition\\lib\\site-packages\\keras\\backend\\tensorflow_backend.py:186: The name tf.Session is deprecated. Please use tf.compat.v1.Session instead.\n",
      "\n"
     ]
    },
    {
     "name": "stdout",
     "output_type": "stream",
     "text": [
      "WARNING:tensorflow:From c:\\users\\jzh\\miniconda3\\envs\\face_recognition\\lib\\site-packages\\keras\\backend\\tensorflow_backend.py:190: The name tf.global_variables is deprecated. Please use tf.compat.v1.global_variables instead.\n",
      "\n"
     ]
    },
    {
     "name": "stderr",
     "output_type": "stream",
     "text": [
      "WARNING:tensorflow:From c:\\users\\jzh\\miniconda3\\envs\\face_recognition\\lib\\site-packages\\keras\\backend\\tensorflow_backend.py:190: The name tf.global_variables is deprecated. Please use tf.compat.v1.global_variables instead.\n",
      "\n"
     ]
    },
    {
     "name": "stdout",
     "output_type": "stream",
     "text": [
      "WARNING:tensorflow:From c:\\users\\jzh\\miniconda3\\envs\\face_recognition\\lib\\site-packages\\keras\\backend\\tensorflow_backend.py:199: The name tf.is_variable_initialized is deprecated. Please use tf.compat.v1.is_variable_initialized instead.\n",
      "\n"
     ]
    },
    {
     "name": "stderr",
     "output_type": "stream",
     "text": [
      "WARNING:tensorflow:From c:\\users\\jzh\\miniconda3\\envs\\face_recognition\\lib\\site-packages\\keras\\backend\\tensorflow_backend.py:199: The name tf.is_variable_initialized is deprecated. Please use tf.compat.v1.is_variable_initialized instead.\n",
      "\n"
     ]
    },
    {
     "name": "stdout",
     "output_type": "stream",
     "text": [
      "WARNING:tensorflow:From c:\\users\\jzh\\miniconda3\\envs\\face_recognition\\lib\\site-packages\\keras\\backend\\tensorflow_backend.py:206: The name tf.variables_initializer is deprecated. Please use tf.compat.v1.variables_initializer instead.\n",
      "\n"
     ]
    },
    {
     "name": "stderr",
     "output_type": "stream",
     "text": [
      "WARNING:tensorflow:From c:\\users\\jzh\\miniconda3\\envs\\face_recognition\\lib\\site-packages\\keras\\backend\\tensorflow_backend.py:206: The name tf.variables_initializer is deprecated. Please use tf.compat.v1.variables_initializer instead.\n",
      "\n"
     ]
    },
    {
     "name": "stdout",
     "output_type": "stream",
     "text": [
      "WARNING:tensorflow:From c:\\users\\jzh\\miniconda3\\envs\\face_recognition\\lib\\site-packages\\keras\\backend\\tensorflow_backend.py:1834: The name tf.nn.fused_batch_norm is deprecated. Please use tf.compat.v1.nn.fused_batch_norm instead.\n",
      "\n"
     ]
    },
    {
     "name": "stderr",
     "output_type": "stream",
     "text": [
      "WARNING:tensorflow:From c:\\users\\jzh\\miniconda3\\envs\\face_recognition\\lib\\site-packages\\keras\\backend\\tensorflow_backend.py:1834: The name tf.nn.fused_batch_norm is deprecated. Please use tf.compat.v1.nn.fused_batch_norm instead.\n",
      "\n"
     ]
    },
    {
     "name": "stdout",
     "output_type": "stream",
     "text": [
      "WARNING:tensorflow:From c:\\users\\jzh\\miniconda3\\envs\\face_recognition\\lib\\site-packages\\keras\\backend\\tensorflow_backend.py:133: The name tf.placeholder_with_default is deprecated. Please use tf.compat.v1.placeholder_with_default instead.\n",
      "\n"
     ]
    },
    {
     "name": "stderr",
     "output_type": "stream",
     "text": [
      "WARNING:tensorflow:From c:\\users\\jzh\\miniconda3\\envs\\face_recognition\\lib\\site-packages\\keras\\backend\\tensorflow_backend.py:133: The name tf.placeholder_with_default is deprecated. Please use tf.compat.v1.placeholder_with_default instead.\n",
      "\n"
     ]
    },
    {
     "name": "stdout",
     "output_type": "stream",
     "text": [
      "WARNING:tensorflow:From c:\\users\\jzh\\miniconda3\\envs\\face_recognition\\lib\\site-packages\\keras\\backend\\tensorflow_backend.py:3976: The name tf.nn.max_pool is deprecated. Please use tf.nn.max_pool2d instead.\n",
      "\n"
     ]
    },
    {
     "name": "stderr",
     "output_type": "stream",
     "text": [
      "WARNING:tensorflow:From c:\\users\\jzh\\miniconda3\\envs\\face_recognition\\lib\\site-packages\\keras\\backend\\tensorflow_backend.py:3976: The name tf.nn.max_pool is deprecated. Please use tf.nn.max_pool2d instead.\n",
      "\n"
     ]
    },
    {
     "name": "stdout",
     "output_type": "stream",
     "text": [
      "WARNING:tensorflow:From c:\\users\\jzh\\miniconda3\\envs\\face_recognition\\lib\\site-packages\\keras\\backend\\tensorflow_backend.py:3980: The name tf.nn.avg_pool is deprecated. Please use tf.nn.avg_pool2d instead.\n",
      "\n"
     ]
    },
    {
     "name": "stderr",
     "output_type": "stream",
     "text": [
      "WARNING:tensorflow:From c:\\users\\jzh\\miniconda3\\envs\\face_recognition\\lib\\site-packages\\keras\\backend\\tensorflow_backend.py:3980: The name tf.nn.avg_pool is deprecated. Please use tf.nn.avg_pool2d instead.\n",
      "\n"
     ]
    }
   ],
   "source": [
    "embeddings, face_imgs = main.get_embeddings_and_imgs(image_folder);"
   ]
  },
  {
   "cell_type": "code",
   "execution_count": 50,
   "metadata": {
    "pycharm": {
     "is_executing": false,
     "name": "#%%\n"
    },
    "scrolled": false
   },
   "outputs": [
    {
     "data": {
      "application/vnd.jupyter.widget-view+json": {
       "model_id": "fb7605d14fd247be810c3e2cebfeaf84",
       "version_major": 2,
       "version_minor": 0
      },
      "text/plain": [
       "interactive(children=(IntSlider(value=30, continuous_update=False, description='Threshold:', min=1), Output())…"
      ]
     },
     "metadata": {},
     "output_type": "display_data"
    },
    {
     "data": {
      "application/vnd.jupyter.widget-view+json": {
       "model_id": "9bc10c056f544ccb9bb73030b322d62f",
       "version_major": 2,
       "version_minor": 0
      },
      "text/plain": [
       "Button(button_style='info', description='Preview anzeigen', icon='image', style=ButtonStyle(), tooltip='Zeigt …"
      ]
     },
     "metadata": {},
     "output_type": "display_data"
    },
    {
     "data": {
      "application/vnd.jupyter.widget-view+json": {
       "model_id": "a16b79d6b2564e7497478be784caef9e",
       "version_major": 2,
       "version_minor": 0
      },
      "text/plain": [
       "VBox(children=(VBox(children=(GridspecLayout(children=(Image(value=b'\\x89PNG\\r\\n\\x1a\\n\\x00\\x00\\x00\\rIHDR\\x00\\x…"
      ]
     },
     "metadata": {},
     "output_type": "display_data"
    },
    {
     "data": {
      "application/vnd.jupyter.widget-view+json": {
       "model_id": "d1e3e5abc29b44ebbb88100f98db24b5",
       "version_major": 2,
       "version_minor": 0
      },
      "text/plain": [
       "VBox(children=(VBox(children=(GridspecLayout(children=(Image(value=b'\\x89PNG\\r\\n\\x1a\\n\\x00\\x00\\x00\\rIHDR\\x00\\x…"
      ]
     },
     "metadata": {},
     "output_type": "display_data"
    }
   ],
   "source": [
    "threshold_slider = widgets.IntSlider(\n",
    "    value=30,\n",
    "    min=1,\n",
    "    max=100,\n",
    "    step=1,\n",
    "    description='Threshold:',\n",
    "    disabled=False,\n",
    "    continuous_update=False,\n",
    "    orientation='horizontal',\n",
    "    readout=True,\n",
    ")\n",
    "@interact\n",
    "def cluster(threshold = threshold_slider):\n",
    "    print(\"Class for every Face (-1 stands for undetected)\\n\")\n",
    "    predictions, cluster_count, avg_imgs_per_cluster = main.get_clusters(embeddings,threshold)\n",
    "    print(\"No of Clusters: \" +  \"\\x1b[31m \"+str(cluster_count)+ \"\\x1b[0m\")\n",
    "    print(\"Avg Images per Cluster: \" +  \"\\x1b[31m \"+str(avg_imgs_per_cluster)+ \"\\x1b[0m\" )    \n",
    "    print(\"\\n Clusters:\")\n",
    "    print(predictions)\n",
    "    \n",
    "preview_button =widgets.Button(\n",
    "    description='Preview anzeigen',\n",
    "    disabled=False,\n",
    "    button_style='info', \n",
    "    tooltip='Zeigt Preview für die generierten Cluster an',\n",
    "    icon='image' # (FontAwesome names without the `fa-` prefix)\n",
    ")\n",
    "\n",
    "\n",
    "out = widgets.Output(\n",
    "    max_height = 100\n",
    "\n",
    ")\n",
    "def show_preview(b):\n",
    "    threshold = threshold_slider.value\n",
    "    predictions, cluster_count, avg_imgs_per_cluster = main.get_clusters(embeddings,threshold)\n",
    "    min_cluster_size  = 2\n",
    "    max_images_per_plot = 3\n",
    "    labels = np.unique(predictions)\n",
    "    labels = labels[labels > -1]\n",
    "    checkboxes = []\n",
    "    all_clusters_box = []\n",
    "    for idx, label in enumerate(labels):\n",
    "        image_indices = np.where(predictions == label)[0]\n",
    "        if image_indices.shape[0] >= min_cluster_size:\n",
    "            cluster_box = []\n",
    "            grid = GridspecLayout(1, 7, layout = {'overflow':'hidden'})\n",
    "            columns = min(image_indices.shape[0], max_images_per_plot)\n",
    "            for i in range(columns):\n",
    "                file = open(face_imgs[image_indices[i]], \"rb\")\n",
    "                image = file.read()\n",
    "                img = widgets.Image(\n",
    "                    value= image,\n",
    "                    format='png',\n",
    "                    width=200,\n",
    "                    height=200,\n",
    "                )\n",
    "                grid[0,i] = img \n",
    "                \n",
    "            cbox = widgets.Checkbox(False, description='Link')\n",
    "            grid[0,3] = cbox\n",
    "            \n",
    "            for i in range(columns):\n",
    "                file = open(face_imgs[image_indices[i]], \"rb\")\n",
    "                image = file.read()\n",
    "                img = widgets.Image(\n",
    "                    value= image,\n",
    "                    format='png',\n",
    "                    width=200,\n",
    "                    height=200,\n",
    "                )\n",
    "                grid[0,4+i] = img \n",
    "            name = widgets.Text(\n",
    "                value=str(idx),\n",
    "                placeholder='Enter Name',\n",
    "                description='Name:',\n",
    "                disabled=False\n",
    "            )\n",
    "            cluster_box.append(grid)\n",
    "            cluster_box.append(name)\n",
    "            all_clusters_box.append(VBox(cluster_box))\n",
    "    display(VBox(all_clusters_box))\n",
    "\n",
    "        \n",
    "        \n",
    "preview_button.on_click(show_preview)\n",
    "\n",
    "      \n",
    "display(preview_button)\n"
   ]
  },
  {
   "cell_type": "code",
   "execution_count": null,
   "metadata": {},
   "outputs": [],
   "source": [
    "%qtconsole"
   ]
  },
  {
   "cell_type": "code",
   "execution_count": null,
   "metadata": {},
   "outputs": [],
   "source": [
    "def show_preview(b):\n",
    "    with out:\n",
    "        out.clear_output()\n",
    "        threshold = threshold_slider.value\n",
    "        predictions, cluster_count, avg_imgs_per_cluster = main.get_clusters(embeddings,threshold)\n",
    "        min_cluster_size  = 2\n",
    "        max_images_per_plot = 3\n",
    "        labels = np.unique(predictions)\n",
    "        labels = labels[labels > -1]\n",
    "        checkboxes = []\n",
    "        for idx, label in enumerate(labels):\n",
    "            image_indices = np.where(predictions == label)[0]\n",
    "            if image_indices.shape[0] >= min_cluster_size:\n",
    "                fig = plt.figure()\n",
    "                rows = 1\n",
    "                columns = min(image_indices.shape[0], max_images_per_plot)\n",
    "                ax = []\n",
    "                for i in range(columns * rows):\n",
    "                    image_indice = image_indices[i]\n",
    "                    img = face_imgs[image_indice].astype(int)\n",
    "                    ax.append(fig.add_subplot(rows, columns, i + 1))\n",
    "                    curr_ax = ax[-1]\n",
    "                    curr_ax.set_xticks([])\n",
    "                    curr_ax.set_yticks([])\n",
    "                    plt.imshow(img)\n",
    "            # use ax for further manipulations if necessary\n",
    "            name = widgets.Text(\n",
    "                value=str(idx),\n",
    "                placeholder='Enter Name',\n",
    "                description='Name:',\n",
    "                disabled=False\n",
    "            )\n",
    "            display(name)\n",
    "            plt.show()\n",
    "            checkbox = widgets.Checkbox(\n",
    "                value=True,\n",
    "                description='Correct?',\n",
    "                disabled=False\n",
    "            )\n",
    "            checkboxes.append(checkbox) \n",
    "            display(checkbox)"
   ]
  },
  {
   "cell_type": "code",
   "execution_count": null,
   "metadata": {},
   "outputs": [],
   "source": []
  }
 ],
 "metadata": {
  "kernelspec": {
   "display_name": "Python 3",
   "language": "python",
   "name": "python3"
  },
  "language_info": {
   "codemirror_mode": {
    "name": "ipython",
    "version": 3
   },
   "file_extension": ".py",
   "mimetype": "text/x-python",
   "name": "python",
   "nbconvert_exporter": "python",
   "pygments_lexer": "ipython3",
   "version": "3.7.7"
  },
  "pycharm": {
   "stem_cell": {
    "cell_type": "raw",
    "metadata": {
     "collapsed": false
    },
    "source": []
   }
  }
 },
 "nbformat": 4,
 "nbformat_minor": 1
}
