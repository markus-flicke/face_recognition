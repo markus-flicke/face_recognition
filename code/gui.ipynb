{
 "cells": [
  {
   "cell_type": "markdown",
   "metadata": {
    "pycharm": {
     "name": "#%% md\n"
    }
   },
   "source": [
    "# Face Clustering for Photo Albums\n"
   ]
  },
  {
   "cell_type": "markdown",
   "metadata": {
    "pycharm": {
     "name": "#%% md\n"
    }
   },
   "source": [
    "## Imports"
   ]
  },
  {
   "cell_type": "code",
   "execution_count": 1,
   "metadata": {
    "pycharm": {
     "is_executing": false,
     "name": "#%%\n"
    }
   },
   "outputs": [
    {
     "name": "stderr",
     "output_type": "stream",
     "text": [
      "Using TensorFlow backend.\n"
     ]
    }
   ],
   "source": [
    "import warnings\n",
    "warnings.filterwarnings('ignore')\n",
    "import os\n",
    "import sys\n",
    "import numpy as np\n",
    "from pathlib import Path\n",
    "import ipywidgets as widgets\n",
    "from IPython.core.display import display\n",
    "from ipywidgets import interact, interact_manual\n",
    "from ipywidgets import Button, HBox, VBox, GridspecLayout, Layout\n",
    "import cv2 \n",
    "from matplotlib import pyplot as plt\n",
    "import src.gui_controller as gui_controller\n",
    "\n",
    "\n"
   ]
  },
  {
   "cell_type": "code",
   "execution_count": 2,
   "metadata": {},
   "outputs": [
    {
     "data": {
      "application/javascript": [
       "IPython.OutputArea.auto_scroll_threshold = 9999; // prevents collapsing of the image preview\n"
      ],
      "text/plain": [
       "<IPython.core.display.Javascript object>"
      ]
     },
     "metadata": {},
     "output_type": "display_data"
    }
   ],
   "source": [
    "%%javascript\n",
    "IPython.OutputArea.auto_scroll_threshold = 9999; // prevents collapsing of the image preview"
   ]
  },
  {
   "cell_type": "markdown",
   "metadata": {},
   "source": [
    "##  Select File Path"
   ]
  },
  {
   "cell_type": "code",
   "execution_count": 3,
   "metadata": {},
   "outputs": [],
   "source": [
    "image_folder = r\"C:\\AX\";"
   ]
  },
  {
   "cell_type": "markdown",
   "metadata": {},
   "source": [
    "## Extract Faces from Album / Image(s) and Extract Features"
   ]
  },
  {
   "cell_type": "code",
   "execution_count": 4,
   "metadata": {},
   "outputs": [
    {
     "data": {
      "application/vnd.jupyter.widget-view+json": {
       "model_id": "75fe34b6605341f0a0f2dfa884ec79f8",
       "version_major": 2,
       "version_minor": 0
      },
      "text/plain": [
       "RadioButtons(description='Mode:', options=('Scanned Album', 'Image(s)'), value='Scanned Album')"
      ]
     },
     "metadata": {},
     "output_type": "display_data"
    },
    {
     "data": {
      "application/vnd.jupyter.widget-view+json": {
       "model_id": "2c01fbb66ca94f9497d2a2dc76fcf96e",
       "version_major": 2,
       "version_minor": 0
      },
      "text/plain": [
       "Button(button_style='info', description='Extract Faces', style=ButtonStyle())"
      ]
     },
     "metadata": {},
     "output_type": "display_data"
    },
    {
     "data": {
      "application/vnd.jupyter.widget-view+json": {
       "model_id": "15a5db4460984aa791f90021f62ed302",
       "version_major": 2,
       "version_minor": 0
      },
      "text/plain": [
       "Button(button_style='primary', description='Extract Features', style=ButtonStyle())"
      ]
     },
     "metadata": {},
     "output_type": "display_data"
    },
    {
     "data": {
      "application/vnd.jupyter.widget-view+json": {
       "model_id": "f1e1e1b3d1734372b258812fc684776c",
       "version_major": 2,
       "version_minor": 0
      },
      "text/plain": [
       "Label(value=\"If you have already extracted the faces once for this folder you can press 'Extract Features' rig…"
      ]
     },
     "metadata": {},
     "output_type": "display_data"
    },
    {
     "name": "stdout",
     "output_type": "stream",
     "text": [
      "WARNING:tensorflow:From C:\\Users\\Johan\\Anaconda3\\lib\\site-packages\\keras\\backend\\tensorflow_backend.py:74: The name tf.get_default_graph is deprecated. Please use tf.compat.v1.get_default_graph instead.\n",
      "\n",
      "WARNING:tensorflow:From C:\\Users\\Johan\\Anaconda3\\lib\\site-packages\\keras\\backend\\tensorflow_backend.py:517: The name tf.placeholder is deprecated. Please use tf.compat.v1.placeholder instead.\n",
      "\n",
      "WARNING:tensorflow:From C:\\Users\\Johan\\Anaconda3\\lib\\site-packages\\keras\\backend\\tensorflow_backend.py:4138: The name tf.random_uniform is deprecated. Please use tf.random.uniform instead.\n",
      "\n",
      "WARNING:tensorflow:From C:\\Users\\Johan\\Anaconda3\\lib\\site-packages\\keras\\backend\\tensorflow_backend.py:174: The name tf.get_default_session is deprecated. Please use tf.compat.v1.get_default_session instead.\n",
      "\n",
      "WARNING:tensorflow:From C:\\Users\\Johan\\Anaconda3\\lib\\site-packages\\keras\\backend\\tensorflow_backend.py:181: The name tf.ConfigProto is deprecated. Please use tf.compat.v1.ConfigProto instead.\n",
      "\n",
      "WARNING:tensorflow:From C:\\Users\\Johan\\Anaconda3\\lib\\site-packages\\keras\\backend\\tensorflow_backend.py:1834: The name tf.nn.fused_batch_norm is deprecated. Please use tf.compat.v1.nn.fused_batch_norm instead.\n",
      "\n",
      "WARNING:tensorflow:From C:\\Users\\Johan\\Anaconda3\\lib\\site-packages\\keras\\backend\\tensorflow_backend.py:3976: The name tf.nn.max_pool is deprecated. Please use tf.nn.max_pool2d instead.\n",
      "\n",
      "WARNING:tensorflow:From C:\\Users\\Johan\\Anaconda3\\lib\\site-packages\\keras\\backend\\tensorflow_backend.py:3980: The name tf.nn.avg_pool is deprecated. Please use tf.nn.avg_pool2d instead.\n",
      "\n"
     ]
    }
   ],
   "source": [
    "radio = widgets.RadioButtons(\n",
    "    options=['Scanned Album', 'Image(s)'],\n",
    "    description='Mode:',\n",
    "    disabled=False\n",
    ")\n",
    "information_label = widgets.Label(value=\"If you have already extracted the faces once for this folder you can press 'Extract Features' right away\")\n",
    "button_extract_faces = Button(description=\"Extract Faces\", button_style= 'info')\n",
    "button_extract_embeddings = Button(description=\"Extract Features\", button_style = 'primary')\n",
    "\n",
    "\n",
    "def set_buttons_enabled(enabled):\n",
    "    button_extract_faces.disabled = not enabled\n",
    "    button_extract_embeddings.disabled = not enabled\n",
    "    \n",
    "def extract_faces(b):\n",
    "    set_buttons_enabled(False)\n",
    "    information_label.value = \"Face Extraction is in progress. Please wait.\"\n",
    "    gui_controller.extract_faces_from_folder(image_folder, isAlbum)\n",
    "    information_label.value = \"Faces have been extracted, you can start the feature extraction now\"\n",
    "    set_buttons_enabled(True)\n",
    "    \n",
    "def extract_embeddings(b):\n",
    "    global embeddings\n",
    "    global face_imgs\n",
    "    set_buttons_enabled(False)\n",
    "    information_label.value = \"Feature Extraction is in progress. Please wait.\"\n",
    "    isAlbum = False\n",
    "    if radio.value == 'Scanned Album':\n",
    "        isAlbum=True\n",
    "    embeddings, face_imgs = gui_controller.get_embeddings_and_imgs(image_folder)\n",
    "    information_label.value = \"Features have been extracted, you can now start clustering\"\n",
    "    set_buttons_enabled(True) \n",
    "    \n",
    "button_extract_faces.on_click(extract_faces)\n",
    "button_extract_embeddings.on_click(extract_embeddings)\n",
    "display(radio)\n",
    "display(button_extract_faces)\n",
    "display(button_extract_embeddings)\n",
    "display(information_label)"
   ]
  },
  {
   "cell_type": "markdown",
   "metadata": {
    "pycharm": {
     "name": "#%% md\n"
    }
   },
   "source": [
    "## Cluster Faces"
   ]
  },
  {
   "cell_type": "code",
   "execution_count": 7,
   "metadata": {
    "pycharm": {
     "is_executing": false,
     "name": "#%%\n"
    },
    "scrolled": false
   },
   "outputs": [
    {
     "data": {
      "application/vnd.jupyter.widget-view+json": {
       "model_id": "d5d742a7f5ac4c2b864a0c4e1b417960",
       "version_major": 2,
       "version_minor": 0
      },
      "text/plain": [
       "interactive(children=(IntSlider(value=30, continuous_update=False, description='Threshold:', min=1), Output())…"
      ]
     },
     "metadata": {},
     "output_type": "display_data"
    },
    {
     "data": {
      "application/vnd.jupyter.widget-view+json": {
       "model_id": "6b95385576aa4eafae00b794157ed5bf",
       "version_major": 2,
       "version_minor": 0
      },
      "text/plain": [
       "Button(button_style='info', description='Preview anzeigen', icon='image', style=ButtonStyle(), tooltip='Zeigt …"
      ]
     },
     "metadata": {},
     "output_type": "display_data"
    },
    {
     "data": {
      "application/vnd.jupyter.widget-view+json": {
       "model_id": "1f17545f74744260998318c750f35998",
       "version_major": 2,
       "version_minor": 0
      },
      "text/plain": [
       "Output(layout=Layout(border='1px solid black'))"
      ]
     },
     "metadata": {},
     "output_type": "display_data"
    }
   ],
   "source": [
    "threshold_slider = widgets.IntSlider(\n",
    "    value=30,\n",
    "    min=1,\n",
    "    max=100,\n",
    "    step=1,\n",
    "    description='Threshold:',\n",
    "    disabled=False,\n",
    "    continuous_update=False,\n",
    "    orientation='horizontal',\n",
    "    readout=True,\n",
    ")\n",
    "@interact\n",
    "def cluster(threshold = threshold_slider):\n",
    "    print(\"Class for every Face (-1 stands for undetected)\\n\")\n",
    "    predictions, cluster_count, avg_imgs_per_cluster, closest_clusters = gui_controller.get_clusters(embeddings,threshold)\n",
    "    print(\"No of Clusters: \" +  \"\\x1b[31m \"+str(cluster_count)+ \"\\x1b[0m\")\n",
    "    print(\"Avg Images per Cluster: \" +  \"\\x1b[31m \"+str(avg_imgs_per_cluster)+ \"\\x1b[0m\" )    \n",
    "    print(\"\\n Clusters:\")\n",
    "    print(predictions)\n",
    "    print(closest_clusters)\n",
    "    \n",
    "preview_button =widgets.Button(\n",
    "    description='Preview anzeigen',\n",
    "    disabled=False,\n",
    "    button_style='info', \n",
    "    tooltip='Zeigt Preview für die generierten Cluster an',\n",
    "    icon='image' # (FontAwesome names without the `fa-` prefix)\n",
    ")\n",
    "\n",
    "\n",
    "out = widgets.Output(\n",
    "    max_height = 100,\n",
    "    layout = {'border':'1px solid black'}\n",
    "\n",
    ")\n",
    "cluster_box = None\n",
    "\n",
    "def show_preview(b):\n",
    "    with out:\n",
    "        out.clear_output()\n",
    "        threshold = threshold_slider.value\n",
    "        predictions, cluster_count, avg_imgs_per_cluster, closest_clusters = gui_controller.get_clusters(embeddings,threshold)\n",
    "        min_cluster_size  = 2\n",
    "        max_images_per_plot = 3\n",
    "        labels = np.unique(predictions)\n",
    "        labels = labels[labels > -1]\n",
    "        checkboxes = []\n",
    "        all_clusters_box = []\n",
    "        for idx, label in enumerate(labels):\n",
    "            image_indices = np.where(predictions == label)[0]\n",
    "            closest_cluster_indices = np.where(predictions == closest_clusters[label])[0]\n",
    "            if image_indices.shape[0] >= min_cluster_size:\n",
    "                cluster_box = []\n",
    "                grid = GridspecLayout(1, 7, layout = {'overflow':'hidden'})\n",
    "                columns = min(image_indices.shape[0], max_images_per_plot)\n",
    "                for i in range(columns):\n",
    "                    file = open(face_imgs[image_indices[i]], \"rb\")\n",
    "                    image = file.read()\n",
    "                    img = widgets.Image(\n",
    "                        value= image,\n",
    "                        format='png',\n",
    "                        width=200,\n",
    "                        height=200,\n",
    "                    )\n",
    "                    grid[0,i] = img \n",
    "\n",
    "                cbox = widgets.Checkbox(False, description='Same?', layout = Layout(width = 'auto', justify_content = 'center'), indent = False)\n",
    "                grid[0,3] = cbox\n",
    "                columns = min(closest_cluster_indices.shape[0], max_images_per_plot)\n",
    "                for i in range(columns):\n",
    "                    file = open(face_imgs[closest_cluster_indices[i]], \"rb\")\n",
    "                    image = file.read()\n",
    "                    img = widgets.Image(\n",
    "                        value= image,\n",
    "                        format='png',\n",
    "                        width=200,\n",
    "                        height=200,\n",
    "                    )\n",
    "                    grid[0,4+i] = img \n",
    "                name = widgets.Text(\n",
    "                    value=str(idx),\n",
    "                    placeholder='Enter Name',\n",
    "                    description='Name:',\n",
    "                    disabled=False\n",
    "                )\n",
    "                cluster_box.append(grid)\n",
    "                cluster_box.append(name)\n",
    "                all_clusters_box.append(VBox(cluster_box))\n",
    "        cluster_box = VBox(all_clusters_box)\n",
    "        display(cluster_box)\n",
    "preview_button.on_click(show_preview)      \n",
    "display(preview_button)\n",
    "\n",
    "display(out)\n"
   ]
  },
  {
   "cell_type": "code",
   "execution_count": null,
   "metadata": {},
   "outputs": [],
   "source": []
  },
  {
   "cell_type": "code",
   "execution_count": null,
   "metadata": {},
   "outputs": [],
   "source": []
  },
  {
   "cell_type": "code",
   "execution_count": null,
   "metadata": {},
   "outputs": [],
   "source": []
  },
  {
   "cell_type": "code",
   "execution_count": null,
   "metadata": {},
   "outputs": [],
   "source": []
  },
  {
   "cell_type": "code",
   "execution_count": null,
   "metadata": {},
   "outputs": [],
   "source": []
  },
  {
   "cell_type": "code",
   "execution_count": null,
   "metadata": {},
   "outputs": [],
   "source": []
  }
 ],
 "metadata": {
  "kernelspec": {
   "display_name": "Python 3",
   "language": "python",
   "name": "python3"
  },
  "language_info": {
   "codemirror_mode": {
    "name": "ipython",
    "version": 3
   },
   "file_extension": ".py",
   "mimetype": "text/x-python",
   "name": "python",
   "nbconvert_exporter": "python",
   "pygments_lexer": "ipython3",
   "version": "3.7.7"
  },
  "pycharm": {
   "stem_cell": {
    "cell_type": "raw",
    "metadata": {
     "collapsed": false
    },
    "source": []
   }
  }
 },
 "nbformat": 4,
 "nbformat_minor": 1
}
