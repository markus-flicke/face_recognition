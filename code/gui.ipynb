{
 "cells": [
  {
   "cell_type": "markdown",
   "metadata": {
    "pycharm": {
     "name": "#%% md\n"
    }
   },
   "source": [
    "# Face Clustering for Photo Albums\n"
   ]
  },
  {
   "cell_type": "markdown",
   "metadata": {
    "pycharm": {
     "name": "#%% md\n"
    }
   },
   "source": [
    "## Imports"
   ]
  },
  {
   "cell_type": "code",
   "execution_count": 1,
   "metadata": {
    "pycharm": {
     "is_executing": false,
     "name": "#%%\n"
    }
   },
   "outputs": [
    {
     "name": "stderr",
     "output_type": "stream",
     "text": [
      "Using TensorFlow backend.\n"
     ]
    }
   ],
   "source": [
    "import warnings\n",
    "warnings.filterwarnings('ignore')\n",
    "import os\n",
    "import sys\n",
    "import numpy as np\n",
    "from pathlib import Path\n",
    "import ipywidgets as widgets\n",
    "from IPython.core.display import display\n",
    "from ipywidgets import interact, interact_manual\n",
    "from ipywidgets import Button, HBox, VBox, GridspecLayout, Layout\n",
    "import cv2 \n",
    "from matplotlib import pyplot as plt\n",
    "import src.gui_controller as gui_controller"
   ]
  },
  {
   "cell_type": "markdown",
   "metadata": {},
   "source": [
    "## Extract Features"
   ]
  },
  {
   "cell_type": "code",
   "execution_count": 2,
   "metadata": {},
   "outputs": [
    {
     "data": {
      "application/vnd.jupyter.widget-view+json": {
       "model_id": "d6f17ba4023b4b059ffa59fa2a4baa92",
       "version_major": 2,
       "version_minor": 0
      },
      "text/plain": [
       "Text(value='C:\\\\AX', description='Path:', placeholder='Type something')"
      ]
     },
     "metadata": {},
     "output_type": "display_data"
    },
    {
     "data": {
      "application/vnd.jupyter.widget-view+json": {
       "model_id": "71e3d451ff37487d92f660eda5af8589",
       "version_major": 2,
       "version_minor": 0
      },
      "text/plain": [
       "RadioButtons(description='Mode:', options=('Scanned Album', 'Image(s)'), value='Scanned Album')"
      ]
     },
     "metadata": {},
     "output_type": "display_data"
    },
    {
     "data": {
      "application/vnd.jupyter.widget-view+json": {
       "model_id": "0fbbd51139cb419ba84610db823b76f9",
       "version_major": 2,
       "version_minor": 0
      },
      "text/plain": [
       "Button(button_style='info', description='Extract Faces', style=ButtonStyle())"
      ]
     },
     "metadata": {},
     "output_type": "display_data"
    },
    {
     "data": {
      "application/vnd.jupyter.widget-view+json": {
       "model_id": "8b473a2999754b98b635c15ddabaccda",
       "version_major": 2,
       "version_minor": 0
      },
      "text/plain": [
       "Button(button_style='primary', description='Extract Features', style=ButtonStyle())"
      ]
     },
     "metadata": {},
     "output_type": "display_data"
    },
    {
     "data": {
      "application/vnd.jupyter.widget-view+json": {
       "model_id": "abaa942a850d4c9f8c25d299fb106237",
       "version_major": 2,
       "version_minor": 0
      },
      "text/plain": [
       "Label(value=\"If you have already extracted the faces once for this folder you can press 'Extract Features' rig…"
      ]
     },
     "metadata": {},
     "output_type": "display_data"
    },
    {
     "name": "stdout",
     "output_type": "stream",
     "text": [
      "WARNING:tensorflow:From C:\\Users\\Johan\\Anaconda3\\lib\\site-packages\\keras\\backend\\tensorflow_backend.py:74: The name tf.get_default_graph is deprecated. Please use tf.compat.v1.get_default_graph instead.\n",
      "\n",
      "WARNING:tensorflow:From C:\\Users\\Johan\\Anaconda3\\lib\\site-packages\\keras\\backend\\tensorflow_backend.py:517: The name tf.placeholder is deprecated. Please use tf.compat.v1.placeholder instead.\n",
      "\n",
      "WARNING:tensorflow:From C:\\Users\\Johan\\Anaconda3\\lib\\site-packages\\keras\\backend\\tensorflow_backend.py:4138: The name tf.random_uniform is deprecated. Please use tf.random.uniform instead.\n",
      "\n",
      "WARNING:tensorflow:From C:\\Users\\Johan\\Anaconda3\\lib\\site-packages\\keras\\backend\\tensorflow_backend.py:174: The name tf.get_default_session is deprecated. Please use tf.compat.v1.get_default_session instead.\n",
      "\n",
      "WARNING:tensorflow:From C:\\Users\\Johan\\Anaconda3\\lib\\site-packages\\keras\\backend\\tensorflow_backend.py:181: The name tf.ConfigProto is deprecated. Please use tf.compat.v1.ConfigProto instead.\n",
      "\n",
      "WARNING:tensorflow:From C:\\Users\\Johan\\Anaconda3\\lib\\site-packages\\keras\\backend\\tensorflow_backend.py:1834: The name tf.nn.fused_batch_norm is deprecated. Please use tf.compat.v1.nn.fused_batch_norm instead.\n",
      "\n",
      "WARNING:tensorflow:From C:\\Users\\Johan\\Anaconda3\\lib\\site-packages\\keras\\backend\\tensorflow_backend.py:3976: The name tf.nn.max_pool is deprecated. Please use tf.nn.max_pool2d instead.\n",
      "\n",
      "WARNING:tensorflow:From C:\\Users\\Johan\\Anaconda3\\lib\\site-packages\\keras\\backend\\tensorflow_backend.py:3980: The name tf.nn.avg_pool is deprecated. Please use tf.nn.avg_pool2d instead.\n",
      "\n"
     ]
    }
   ],
   "source": [
    "radio = widgets.RadioButtons(\n",
    "    options=['Scanned Album', 'Image(s)'],\n",
    "    description='Mode:',\n",
    "    disabled=False\n",
    ")\n",
    "information_label = widgets.Label(value=\"If you have already extracted the faces once for this folder you can press 'Extract Features' right away\")\n",
    "button_extract_faces = Button(description=\"Extract Faces\", button_style= 'info')\n",
    "button_extract_embeddings = Button(description=\"Extract Features\", button_style = 'primary')\n",
    "\n",
    "image_folder_box = widgets.Text(\n",
    "    value=r'C:\\AX',\n",
    "    placeholder='Type something',\n",
    "    description='Path:',\n",
    "    disabled=False\n",
    ")\n",
    "\n",
    "embeddings =[]\n",
    "\n",
    "def set_buttons_enabled(enabled):\n",
    "    button_extract_faces.disabled = not enabled\n",
    "    button_extract_embeddings.disabled = not enabled\n",
    "    \n",
    "def extract_faces(b):\n",
    "    set_buttons_enabled(False)\n",
    "    information_label.value = \"Face Extraction is in progress. Please wait.\"\n",
    "    gui_controller.extract_faces_from_folder(image_folder, isAlbum)\n",
    "    information_label.value = \"Faces have been extracted, you can start the feature extraction now\"\n",
    "    set_buttons_enabled(True)\n",
    "    \n",
    "def extract_embeddings(b):\n",
    "    global embeddings\n",
    "    global face_imgs\n",
    "    set_buttons_enabled(False)\n",
    "    information_label.value = \"Feature Extraction is in progress. Please wait.\"\n",
    "    isAlbum = False\n",
    "    if radio.value == 'Scanned Album':\n",
    "        isAlbum=True\n",
    "    embeddings, face_imgs = gui_controller.get_embeddings_and_imgs(image_folder_box.value)\n",
    "    information_label.value = \"Features have been extracted, you can now start clustering\"\n",
    "    set_buttons_enabled(True) \n",
    "    \n",
    "button_extract_faces.on_click(extract_faces)\n",
    "button_extract_embeddings.on_click(extract_embeddings)\n",
    "display(image_folder_box)\n",
    "display(radio)\n",
    "display(button_extract_faces)\n",
    "display(button_extract_embeddings)\n",
    "display(information_label)"
   ]
  },
  {
   "cell_type": "markdown",
   "metadata": {
    "pycharm": {
     "name": "#%% md\n"
    }
   },
   "source": [
    "## Cluster Faces"
   ]
  },
  {
   "cell_type": "code",
   "execution_count": 6,
   "metadata": {
    "pycharm": {
     "is_executing": false,
     "name": "#%%\n"
    },
    "scrolled": false
   },
   "outputs": [
    {
     "data": {
      "application/vnd.jupyter.widget-view+json": {
       "model_id": "07e2073c80b9480fb15438233fdc3574",
       "version_major": 2,
       "version_minor": 0
      },
      "text/plain": [
       "interactive(children=(IntSlider(value=30, continuous_update=False, description='Threshold:', min=1), Output())…"
      ]
     },
     "metadata": {},
     "output_type": "display_data"
    },
    {
     "data": {
      "application/vnd.jupyter.widget-view+json": {
       "model_id": "6b70ba71fbaf4ebd8f3072334aa9fa77",
       "version_major": 2,
       "version_minor": 0
      },
      "text/plain": [
       "Button(button_style='info', description='Show Preview', icon='image', style=ButtonStyle(), tooltip='Zeigt Prev…"
      ]
     },
     "metadata": {},
     "output_type": "display_data"
    },
    {
     "data": {
      "application/vnd.jupyter.widget-view+json": {
       "model_id": "7808698a0e274ba79003804609130c4d",
       "version_major": 2,
       "version_minor": 0
      },
      "text/plain": [
       "Output(layout=Layout(border='1px solid black'))"
      ]
     },
     "metadata": {},
     "output_type": "display_data"
    },
    {
     "data": {
      "application/vnd.jupyter.widget-view+json": {
       "model_id": "b5fa57b187b94b75afb8b8e5d87f5959",
       "version_major": 2,
       "version_minor": 0
      },
      "text/plain": [
       "Button(button_style='success', description='Save', icon='save', style=ButtonStyle(), tooltip='Speichert in Pre…"
      ]
     },
     "metadata": {},
     "output_type": "display_data"
    }
   ],
   "source": [
    "threshold_slider = widgets.IntSlider(\n",
    "    value=30,\n",
    "    min=1,\n",
    "    max=100,\n",
    "    step=1,\n",
    "    description='Threshold:',\n",
    "    disabled=False,\n",
    "    continuous_update=False,\n",
    "    orientation='horizontal',\n",
    "    readout=True,\n",
    ")\n",
    "@interact\n",
    "def cluster(threshold = threshold_slider):\n",
    "    global embeddings\n",
    "    if len(embeddings)!=0:\n",
    "        predictions, cluster_count, avg_imgs_per_cluster, closest_clusters = gui_controller.get_clusters(embeddings,threshold)\n",
    "        print(\"No of Clusters: \" +  \"\\x1b[31m \"+str(cluster_count)+ \"\\x1b[0m\")\n",
    "        print(\"Avg Images per Cluster: \" +  \"\\x1b[31m \"+str(round(avg_imgs_per_cluster))+ \"\\x1b[0m\" )    \n",
    "        # print(\"Class for every Face (-1 stands for undetected)\\n\")\n",
    "        # print(\"\\n Clusters:\")\n",
    "        # print(predictions)\n",
    "        # print(closest_clusters)\n",
    "    else:\n",
    "        print(\"No embeddings available, extract Features first.\")\n",
    "    \n",
    "preview_button =widgets.Button(\n",
    "    description='Show Preview',\n",
    "    disabled=False,\n",
    "    button_style='info', \n",
    "    tooltip='Zeigt Preview für die generierten Cluster an',\n",
    "    icon='image' # (FontAwesome names without the `fa-` prefix)\n",
    ")\n",
    "\n",
    "    \n",
    "save_button =widgets.Button(\n",
    "    description='Save',\n",
    "    disabled=False,\n",
    "    button_style='success', \n",
    "    tooltip='Speichert in Preview generierte/eingetragene Infos in csv',\n",
    "    icon='save' # (FontAwesome names without the `fa-` prefix)\n",
    ")\n",
    "\n",
    "\n",
    "out = widgets.Output(\n",
    "    max_height = 100,\n",
    "    layout = {'border':'1px solid black'}\n",
    "\n",
    ")\n",
    "label_info = {}\n",
    "cluster_box = None\n",
    "same_checkboxes = None\n",
    "correct_checkboxes = None\n",
    "def save(b):\n",
    "    global label_info\n",
    "    for label in label_info:\n",
    "        info = label_info[label]\n",
    "        print('cluster label: ' + str(label))\n",
    "        print('name in textbox: ' + str(info[0].value))\n",
    "        print('closest cluster label: ' + str(info[1]))\n",
    "        print('correct checkbox value: ' + str(info[2].value))\n",
    "        print('same checkbox value: ' + str(info[3].value))\n",
    "        print('\\n')\n",
    "    print(face_imgs)\n",
    "\n",
    "def show_preview(b):\n",
    "    with out:\n",
    "        out.clear_output()\n",
    "        global embeddings\n",
    "        if len(embeddings)!=0:\n",
    "            threshold = threshold_slider.value\n",
    "            predictions, cluster_count, avg_imgs_per_cluster, closest_clusters = gui_controller.get_clusters(embeddings,threshold)\n",
    "            min_cluster_size  = 1\n",
    "            max_images_per_plot = 3\n",
    "            labels = np.unique(predictions)\n",
    "            labels = labels[labels > -1]\n",
    "            global label_info\n",
    "            global correct_checkboxes\n",
    "            all_clusters_box = []\n",
    "            heading = GridspecLayout(1, 7, layout = {'overflow':'hidden'})\n",
    "            heading[0,0] = widgets.HTML(value = f\"<b>Predicted Cluster</b>\")\n",
    "            heading[0,4] = widgets.HTML(value = f\"<b>Closest Cluster</b>\")\n",
    "            all_clusters_box.append(heading)\n",
    "            for idx, label in enumerate(labels):\n",
    "                image_indices = np.where(predictions == label)[0]\n",
    "                closest_cluster_label = closest_clusters[label]\n",
    "                closest_cluster_indices = np.where(predictions == closest_cluster_label)[0]\n",
    "                if image_indices.shape[0] >= min_cluster_size:\n",
    "                    cluster_box = []\n",
    "                    grid = GridspecLayout(1, 7, layout = {'overflow':'hidden','align_items':'center', 'margin': '0px 0px 15px 0px'})\n",
    "                    columns = min(image_indices.shape[0], max_images_per_plot)\n",
    "                    for i in range(columns):\n",
    "                        file = open(face_imgs[image_indices[i]], \"rb\")\n",
    "                        image = file.read()\n",
    "                        img = widgets.Image(\n",
    "                            value= image,\n",
    "                            format='png',\n",
    "                            width=200,\n",
    "                            height=200,\n",
    "                        )\n",
    "                        grid[0,i] = img \n",
    "\n",
    "                    same_cbox = widgets.Checkbox(False, description='Same?', layout = Layout(width = 'auto', justify_content = 'center'), indent = False)\n",
    "                    grid[0,3] = same_cbox\n",
    "                    columns = min(closest_cluster_indices.shape[0], max_images_per_plot)\n",
    "                    for i in range(columns):\n",
    "                        file = open(face_imgs[closest_cluster_indices[i]], \"rb\")\n",
    "                        image = file.read()\n",
    "                        img = widgets.Image(\n",
    "                            value= image,\n",
    "                            format='png',\n",
    "                            width=200,\n",
    "                            height=200,\n",
    "                        )\n",
    "                        grid[0,4+i] = img \n",
    "                    name = widgets.Text(\n",
    "                        value=str(idx),\n",
    "                        placeholder='Enter Name',\n",
    "                        description='Name:',\n",
    "                        disabled=False,\n",
    "                        layout = {'margin':'0px 0px 10px 0px'}\n",
    "                    )\n",
    "                    correct_cbox = widgets.Checkbox(True, description='Correct?', indent = False, layout = {'margin': '0px 0px 0px 15px'})\n",
    "                    label_info[label] = [name,closest_cluster_label,correct_cbox,same_cbox]\n",
    "                    cluster_box.append(grid)\n",
    "                    \n",
    "                    cluster_box.append(HBox([name, correct_cbox]))\n",
    "                    v_cluster_box = VBox(cluster_box)\n",
    "                    v_cluster_box.layout.border = '1px solid black'\n",
    "                    v_cluster_box.layout.padding = '5px'\n",
    "                    all_clusters_box.append(v_cluster_box)\n",
    "            cluster_box = VBox(all_clusters_box)\n",
    "            display(cluster_box)\n",
    "        else:\n",
    "            print(\"No embeddings available, go back and extract Features first.\")     \n",
    "preview_button.on_click(show_preview)    \n",
    "save_button.on_click(save)\n",
    "display(preview_button)\n",
    "display(out)\n",
    "display(save_button)\n"
   ]
  },
  {
   "cell_type": "code",
   "execution_count": null,
   "metadata": {},
   "outputs": [],
   "source": []
  }
 ],
 "metadata": {
  "kernelspec": {
   "display_name": "Python 3",
   "language": "python",
   "name": "python3"
  },
  "language_info": {
   "codemirror_mode": {
    "name": "ipython",
    "version": 3
   },
   "file_extension": ".py",
   "mimetype": "text/x-python",
   "name": "python",
   "nbconvert_exporter": "python",
   "pygments_lexer": "ipython3",
   "version": "3.7.7"
  },
  "pycharm": {
   "stem_cell": {
    "cell_type": "raw",
    "metadata": {
     "collapsed": false
    },
    "source": []
   }
  }
 },
 "nbformat": 4,
 "nbformat_minor": 1
}
