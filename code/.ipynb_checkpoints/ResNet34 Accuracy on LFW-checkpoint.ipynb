{
 "cells": [
  {
   "cell_type": "markdown",
   "metadata": {},
   "source": [
    "### ResNet34: Face recognition using a binary classifier\n",
    "The framework only implements `compare_faces`, which tells me if two faces are the same person.  \n",
    "\n",
    "The naive approach, that I am investigating here, is to compare the test_img to every img in the training dataset.  \n",
    "\n",
    "Since multiple images can be a match, the classifcation tolerance is lowered (using a binary search) until exactly one result is given. This is then called the prediction of ResNet34. "
   ]
  },
  {
   "cell_type": "code",
   "execution_count": 53,
   "metadata": {},
   "outputs": [],
   "source": [
    "from src.DataLoader.load_lfw import load_lfw"
   ]
  },
  {
   "cell_type": "code",
   "execution_count": 54,
   "metadata": {},
   "outputs": [],
   "source": [
    "training_filepaths, training_labels, test_filepaths, test_labels = load_lfw()"
   ]
  },
  {
   "cell_type": "code",
   "execution_count": 112,
   "metadata": {},
   "outputs": [
    {
     "name": "stdout",
     "output_type": "stream",
     "text": [
      "actual class: 5281\n",
      "tolerance: 0.3\n",
      "predictions: []\n",
      "tolerance: 0.405\n",
      "predictions: [5281]\n"
     ]
    },
    {
     "data": {
      "text/plain": [
       "(['dat/lfw/Tony_Blair/extracted_faces/Tony_Blair_0138_0.png'], [5281])"
      ]
     },
     "execution_count": 112,
     "metadata": {},
     "output_type": "execute_result"
    }
   ],
   "source": [
    "class TestImageNoFaceException(Exception):\n",
    "    \"\"\"If there is no face found on the test image\"\"\"\n",
    "\n",
    "def predict_all_resnet(test_filepath, training_filepaths, training_labels, tolerance = 0.6):\n",
    "    \"\"\"\n",
    "    Compares the test image to all training images. \n",
    "    Returns a list of matches according to the given tolerance.\n",
    "    \"\"\"\n",
    "    test_img = load_image_file(test_filepath)\n",
    "    test_ecodings = np.array(face_encodings(test_img))\n",
    "    if test_ecodings.shape[0] == 0:\n",
    "            raise TestImageNoFaceException()\n",
    "    matching_filepaths = []\n",
    "    predictions = []\n",
    "    \n",
    "    for i in range(len(training_filepaths)):\n",
    "        train_img = load_image_file(training_filepaths[i])\n",
    "        train_ecodings = np.array(face_encodings(train_img))\n",
    "        if train_ecodings.shape[0] == 0:\n",
    "            # TODO: Image didnt contain a face\n",
    "            continue\n",
    "\n",
    "        if compare_faces(test_ecodings, train_ecodings, tolerance = tolerance)[0]:\n",
    "                matching_filepaths.append(training_filepaths[i])\n",
    "                predictions.append(training_labels[i])\n",
    "    return matching_filepaths, predictions\n",
    "\n",
    "\n",
    "def predict_resnet(test_filepath, training_filepaths, training_labels):\n",
    "    \"\"\"\n",
    "    Performs binary search using a binary classifier. \n",
    "    Returns the single most predicted image.\n",
    "    \"\"\"\n",
    "    upper_bound = 1\n",
    "    lower_bound = 0\n",
    "    tolerance = 0.30\n",
    "    for i in range(10):\n",
    "        \n",
    "        try:\n",
    "            matching_filepaths, predictions = predict_all_resnet(test_filepath, training_filepaths, training_labels, tolerance)\n",
    "        except TestImageNoFaceException:\n",
    "            return [[None],[-1]]\n",
    "        print(f'tolerance: {tolerance}')\n",
    "        print(f'predictions: {predictions}')\n",
    "        if len(predictions) > 1:\n",
    "            upper_bound = tolerance\n",
    "            tolerance = (tolerance - lower_bound)*0.5\n",
    "        if len(predictions) < 1:\n",
    "            lower_bound = tolerance\n",
    "            tolerance *= upper_bound + (upper_bound - tolerance)*0.5\n",
    "        if len(predictions) == 1:\n",
    "            return matching_filepaths, predictions\n",
    "        \n",
    "    return matching_filepaths, predictions\n",
    "\n",
    "i = 99\n",
    "print(f'actual class: {test_labels[i]}')\n",
    "predict_resnet(test_filepaths[i], training_filepaths, training_labels)"
   ]
  },
  {
   "cell_type": "markdown",
   "metadata": {},
   "source": [
    "### Computing Recognition Accuracy"
   ]
  },
  {
   "cell_type": "code",
   "execution_count": null,
   "metadata": {},
   "outputs": [
    {
     "name": "stdout",
     "output_type": "stream",
     "text": [
      "0\n",
      "tolerance: 0.3\n",
      "predictions: [4807]\n",
      "tolerance: 0.3\n",
      "predictions: [4517]\n",
      "tolerance: 0.3\n",
      "predictions: [776]\n"
     ]
    }
   ],
   "source": [
    "predicted_filepaths = []\n",
    "predicted_labels = []\n",
    "for i in range(len(test_filepaths)):\n",
    "    if i % 10 == 0:\n",
    "        print(i)\n",
    "    pred_filepaths, pred_labels = predict_resnet(test_filepaths[i], training_filepaths, training_labels)\n",
    "    predicted_filepaths.extend(pred_filepaths)\n",
    "    predicted_labels.extend(pred_labels)\n",
    "    predictions.append(res)"
   ]
  },
  {
   "cell_type": "code",
   "execution_count": 111,
   "metadata": {},
   "outputs": [
    {
     "data": {
      "text/plain": [
       "1.0"
      ]
     },
     "execution_count": 111,
     "metadata": {},
     "output_type": "execute_result"
    }
   ],
   "source": [
    "from sklearn.metrics import accuracy_score\n",
    "accuracy_score(predicted_labels, test_labels)"
   ]
  },
  {
   "cell_type": "code",
   "execution_count": null,
   "metadata": {},
   "outputs": [],
   "source": []
  }
 ],
 "metadata": {
  "kernelspec": {
   "display_name": "Python 3",
   "language": "python",
   "name": "python3"
  },
  "language_info": {
   "codemirror_mode": {
    "name": "ipython",
    "version": 3
   },
   "file_extension": ".py",
   "mimetype": "text/x-python",
   "name": "python",
   "nbconvert_exporter": "python",
   "pygments_lexer": "ipython3",
   "version": "3.8.2"
  }
 },
 "nbformat": 4,
 "nbformat_minor": 4
}
