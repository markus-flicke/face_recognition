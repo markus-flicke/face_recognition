{
 "cells": [
  {
   "cell_type": "markdown",
   "metadata": {},
   "source": [
    "# ResNet34 Clustering"
   ]
  },
  {
   "cell_type": "code",
   "execution_count": 1,
   "metadata": {},
   "outputs": [],
   "source": [
    "from src.DataLoader.load_lfw import load_lfw\n",
    "from src.FaceRecogniser.ResNet34.TSNE import plot_TSNE\n",
    "from src.DataLoader.load_A2 import load_A2"
   ]
  },
  {
   "cell_type": "code",
   "execution_count": 2,
   "metadata": {},
   "outputs": [],
   "source": [
    "import face_recognition\n",
    "import numpy as np\n",
    "import matplotlib.pyplot as plt\n",
    "import seaborn as sns\n"
   ]
  },
  {
   "cell_type": "code",
   "execution_count": 3,
   "metadata": {},
   "outputs": [],
   "source": [
    "# train_filepaths, train_labels, test_filepaths, test_labels = load_lfw()"
   ]
  },
  {
   "cell_type": "code",
   "execution_count": 4,
   "metadata": {},
   "outputs": [],
   "source": [
    "# filepaths = train_filepaths + test_filepaths\n",
    "# labels = train_labels + test_labels"
   ]
  },
  {
   "cell_type": "code",
   "execution_count": 5,
   "metadata": {},
   "outputs": [],
   "source": [
    "filepaths, labels = load_A2()"
   ]
  },
  {
   "cell_type": "markdown",
   "metadata": {},
   "source": [
    "### ResNet-34 encoding"
   ]
  },
  {
   "cell_type": "code",
   "execution_count": 6,
   "metadata": {},
   "outputs": [],
   "source": [
    "def encode(filepaths, labels):\n",
    "    labels = np.array(labels)\n",
    "    filepaths = np.array(filepaths)\n",
    "    no_face_c = 0\n",
    "    X = np.zeros((len(filepaths), 128))\n",
    "    for i, filepath in enumerate(filepaths):\n",
    "        img = face_recognition.load_image_file(filepath)\n",
    "        encodings = face_recognition.face_encodings(img)\n",
    "        # ToDo: Some cropped images won't look like a face to ReseNet-34\n",
    "        if not encodings:\n",
    "            no_face_c += 1\n",
    "            continue\n",
    "            \n",
    "        X[i] = np.array(encodings)\n",
    "    print(f'No encodings found for {no_face_c} faces.')\n",
    "    return X[(X != 0).all(axis = 1)], labels[(X != 0).all(axis = 1)]"
   ]
  },
  {
   "cell_type": "code",
   "execution_count": 7,
   "metadata": {},
   "outputs": [
    {
     "name": "stdout",
     "output_type": "stream",
     "text": [
      "No encodings found for 172 faces.\n"
     ]
    }
   ],
   "source": [
    "X, y = encode(filepaths, labels)"
   ]
  },
  {
   "cell_type": "markdown",
   "metadata": {},
   "source": [
    "### Evaluation Metrics\n",
    "\n",
    "**Input:**  \n",
    "Feature matrix $X \\in \\mathbb R^{n\\times m}$  \n",
    "such that there are $n$ samples and $m$ features.  \n",
    "\n",
    "Ground truth $y \\in \\mathbb N^c$  \n",
    "such that there are c unique class labels. Thus $c\\leq n$\n",
    "\n",
    "**Evaluation process:**  \n",
    "\n",
    "\n",
    "For an image $x_i\\in X$, a class prediction is made: $p_i \\in \\mathbb N^c$  \n",
    "The members of the predicted class are named by their indices:  \n",
    "$pm_i = \\{j|p_j = p_i \\forall j \\in \\mathbb N^n\\}$   \n",
    "\n",
    "\n",
    "Similarly, for each ground truth label $y_i$ there exists a set of indices at which members of the same class as $y_i$ are found:  \n",
    "$ym_i = \\{k|y_k = y_i \\forall k \\in \\mathbb N^n\\}$  \n",
    "\n",
    "\n",
    "Now, $pm_i$ is the set of predicted \"same class\" indices that the algorithm predicts should belong to image $x_i$ and $ym_i$ is the set of indices that belong to the same class as point $x_i$ according to the ground truth.  \n",
    "\n",
    "\n",
    "$$tp = pm_i \\cap ym_i$$\n",
    "$$fp = pm_i \\setminus ym_i$$\n",
    "$$fn = ym_i \\setminus pm_i$$\n",
    "$$tn = n - tp - fp - fn$$\n",
    "\n",
    "<img src=\"venn.png\" style=\"display: block; margin-left:auto; margin-right: auto; width: 50%\">  \n",
    "\n",
    "These values are accumulated over all samples $i\\in \\mathbb N^n$."
   ]
  },
  {
   "cell_type": "code",
   "execution_count": 8,
   "metadata": {},
   "outputs": [],
   "source": [
    "def jaccard(tp, fp, fn):\n",
    "    return tp / (tp + fp + fn)\n",
    "    \n",
    "def accuracy(tp, fp, fn, tn):\n",
    "    return (tp + tn)/(tp + fp + fn + tn)\n",
    "\n",
    "def precision(tp, fp):\n",
    "    return tp/(tp + fp)\n",
    "\n",
    "def recall(tp, fn):\n",
    "    return tp/(tp + fn)\n",
    "\n",
    "def f1(tp, fp, fn):\n",
    "    p = precision(tp, fp)\n",
    "    r = recall(tp, fn)\n",
    "    return 2 * p * r / (p + r)\n",
    "\n",
    "def evaluate(y, pred, verbose = True):\n",
    "    tp = 0\n",
    "    fp = 0\n",
    "    fn = 0\n",
    "    tn = 0\n",
    "    for true_label, pred_label in zip(y, pred):\n",
    "        true_idx = {i for i, t in enumerate(y) if t == true_label}\n",
    "        pred_idx = {i for i, p in enumerate(pred) if p == pred_label}\n",
    "        tp += len(pred_idx.intersection(true_idx)) - 1\n",
    "        fp += len(pred_idx.difference(true_idx))\n",
    "        fn += len(true_idx.difference(pred_idx))\n",
    "        tn += len(y) - len(pred_idx.intersection(true_idx)) -len(pred_idx.difference(true_idx)) - len(true_idx.difference(pred_idx))\n",
    "    if verbose:\n",
    "        print(f'Accuracy:  {accuracy(tp, fp, fn, tn):>8.2%}')\n",
    "        print(f'Jaccard:   {jaccard(tp, fp, fn):>8.2%}')\n",
    "        print(f'Precision: {precision(tp, fp):>8.2%}')\n",
    "        print(f'Recall:    {recall(tp, fn):>8.2%}')\n",
    "        print(f'F1:        {f1(tp, fp, fn):>8.2%}')\n",
    "        print()\n",
    "        print(f'{\"\":<12}{\"Positive\":<12}{\"Negative\":<12}')\n",
    "        print(f'{\"True\":<12}{tp:<12}{tn:<12}')\n",
    "        print(f'{\"False\":<12}{fp:<12}{fn:<12}')\n",
    "    else:\n",
    "        return precision(tp, fp), recall(tp, fn)"
   ]
  },
  {
   "cell_type": "markdown",
   "metadata": {},
   "source": [
    "### Precision Recall Curve\n",
    "Will be used to determine optimal clustering parameters"
   ]
  },
  {
   "cell_type": "code",
   "execution_count": 9,
   "metadata": {},
   "outputs": [],
   "source": [
    "def plot_prec_rec(clf, thresholds):\n",
    "    \"\"\"\n",
    "    Evaluates a classifier that takes one argument (thresh) over a range of thresholds\n",
    "    \"\"\"\n",
    "    fig, ax = plt.subplots(figsize = (20,8))\n",
    "    prec = []\n",
    "    rec = []\n",
    "    for thresh in thresholds:\n",
    "        preds = clf(thresh)\n",
    "        p, r = evaluate(y, preds, False)\n",
    "        prec.append(p)\n",
    "        rec.append(r)\n",
    "\n",
    "    plt.plot(prec, rec)\n",
    "    plt.xlabel('Precision', size = 20)\n",
    "    plt.ylabel('Recall', size = 20)\n",
    "    plt.grid()\n",
    "\n",
    "    for i in range(len(prec)):\n",
    "        ax.annotate(f'{thresholds[i]:.2f}', (prec[i], rec[i]))"
   ]
  },
  {
   "cell_type": "markdown",
   "metadata": {},
   "source": [
    "### DBScan\n",
    "The choice of Eps is 0.5 by default. However, if the dataset contains many people that belong together, then another eps may be optimal.  \n",
    "\n",
    "eps := \n",
    "`The maximum distance between two samples for one to be considered as in the neighborhood of the other. This is not a maximum bound on the distances of points within a cluster. This is the most important DBSCAN parameter to choose appropriately for your data set and distance function.`\n"
   ]
  },
  {
   "cell_type": "code",
   "execution_count": 18,
   "metadata": {},
   "outputs": [
    {
     "name": "stdout",
     "output_type": "stream",
     "text": [
      "Accuracy:    99.69%\n",
      "Jaccard:     17.50%\n",
      "Precision:   50.00%\n",
      "Recall:      21.21%\n",
      "F1:          29.79%\n",
      "\n",
      "            Positive    Negative    \n",
      "True        14          21382       \n",
      "False       14          52          \n"
     ]
    }
   ],
   "source": [
    "from sklearn.cluster import DBSCAN\n",
    "\n",
    "cls = DBSCAN(eps = 0.3, min_samples = 1)\n",
    "pred = cls.fit_predict(X)\n",
    "evaluate(y, pred)"
   ]
  },
  {
   "cell_type": "code",
   "execution_count": 11,
   "metadata": {},
   "outputs": [
    {
     "data": {
      "image/png": "[encoded data removed]",
      "text/plain": [
       "<Figure size 1440x576 with 1 Axes>"
      ]
     },
     "metadata": {
      "needs_background": "light"
     },
     "output_type": "display_data"
    }
   ],
   "source": [
    "def db_scan_depending_on_eps(eps):\n",
    "    cls = DBSCAN(eps = eps, min_samples = 1)\n",
    "    pred = cls.fit_predict(X)\n",
    "    return pred\n",
    "\n",
    "plot_prec_rec(db_scan_depending_on_eps, thresholds = np.linspace(0.1,1,20))"
   ]
  },
  {
   "cell_type": "markdown",
   "metadata": {},
   "source": [
    "### Verification of results: TSNE\n",
    "Visually inspect where mistakes are being made"
   ]
  },
  {
   "cell_type": "code",
   "execution_count": 12,
   "metadata": {},
   "outputs": [],
   "source": [
    "purity = []\n",
    "for true_label, pred_label in zip(y, pred):\n",
    "    true_idx = {i for i, t in enumerate(y) if t == true_label}\n",
    "    pred_idx = {i for i, p in enumerate(pred) if p == pred_label}\n",
    "    purity.append(len(pred_idx.intersection(true_idx))/ len(true_idx))"
   ]
  },
  {
   "cell_type": "code",
   "execution_count": 13,
   "metadata": {},
   "outputs": [],
   "source": [
    "color_palette = sns.color_palette('Reds', 5)\n",
    "color_idx = [int(5*(1-p)) for p in purity]\n",
    "colors = [color_palette[i] for i in color_idx]"
   ]
  },
  {
   "cell_type": "code",
   "execution_count": 14,
   "metadata": {},
   "outputs": [],
   "source": [
    "# %matplotlib qt\n",
    "# plot_TSNE(X, y, colors)"
   ]
  },
  {
   "cell_type": "markdown",
   "metadata": {},
   "source": [
    "## Other Clustering algorithms"
   ]
  },
  {
   "cell_type": "markdown",
   "metadata": {},
   "source": [
    "### Kmeans\n",
    "Not applicable as the number of clusters \"k\" cannot be known ahead of time"
   ]
  },
  {
   "cell_type": "markdown",
   "metadata": {},
   "source": [
    "### Agglomerative Clustering: Ward"
   ]
  },
  {
   "cell_type": "code",
   "execution_count": 15,
   "metadata": {},
   "outputs": [],
   "source": [
    "from sklearn.cluster import AgglomerativeClustering"
   ]
  },
  {
   "cell_type": "code",
   "execution_count": 21,
   "metadata": {},
   "outputs": [
    {
     "name": "stdout",
     "output_type": "stream",
     "text": [
      "Accuracy:    99.71%\n",
      "Jaccard:     18.42%\n",
      "Precision:   58.33%\n",
      "Recall:      21.21%\n",
      "F1:          31.11%\n",
      "\n",
      "            Positive    Negative    \n",
      "True        14          21386       \n",
      "False       10          52          \n"
     ]
    }
   ],
   "source": [
    "clf = AgglomerativeClustering(n_clusters = None, distance_threshold = 0.3)\n",
    "clf.fit(X)\n",
    "preds = clf.labels_\n",
    "evaluate(y, preds)"
   ]
  },
  {
   "cell_type": "code",
   "execution_count": 22,
   "metadata": {},
   "outputs": [
    {
     "data": {
      "image/png": "[encoded data removed]",
      "text/plain": [
       "<Figure size 1440x576 with 1 Axes>"
      ]
     },
     "metadata": {
      "needs_background": "light"
     },
     "output_type": "display_data"
    }
   ],
   "source": [
    "def agg_clustering(thresh):\n",
    "    clf = AgglomerativeClustering(n_clusters = None, distance_threshold = thresh)\n",
    "    clf.fit(X)\n",
    "    preds = clf.labels_\n",
    "    return preds\n",
    "\n",
    "plot_prec_rec(agg_clustering, thresholds = np.linspace(0.1,1,20))"
   ]
  },
  {
   "cell_type": "code",
   "execution_count": null,
   "metadata": {},
   "outputs": [],
   "source": []
  }
 ],
 "metadata": {
  "kernelspec": {
   "display_name": "Python 3",
   "language": "python",
   "name": "python3"
  },
  "language_info": {
   "codemirror_mode": {
    "name": "ipython",
    "version": 3
   },
   "file_extension": ".py",
   "mimetype": "text/x-python",
   "name": "python",
   "nbconvert_exporter": "python",
   "pygments_lexer": "ipython3",
   "version": "3.8.2"
  }
 },
 "nbformat": 4,
 "nbformat_minor": 4
}
