{
 "cells": [
  {
   "cell_type": "markdown",
   "metadata": {},
   "source": [
    "### Creating an excel worksheet for making labels\n",
    "The worksheet should have columns: filename, image, label  \n",
    "I want to show the images so that the user can input labels manually"
   ]
  },
  {
   "cell_type": "code",
   "execution_count": 4,
   "metadata": {},
   "outputs": [],
   "source": [
    "from xlsxwriter import Workbook\n",
    "from src import Config\n",
    "import os\n",
    "import cv2"
   ]
  },
  {
   "cell_type": "code",
   "execution_count": 28,
   "metadata": {},
   "outputs": [],
   "source": [
    "def get_xlsx_height(filepath):\n",
    "    img = cv2.imread(filepath)\n",
    "    pixelheight = img.shape[0]\n",
    "    return pixelheight * 50 / 63"
   ]
  },
  {
   "cell_type": "code",
   "execution_count": 40,
   "metadata": {},
   "outputs": [],
   "source": [
    "workbook = Workbook('Labels_somethingsomyfileisntoverwritten.xlsx')\n",
    "worksheet = workbook.add_worksheet()\n",
    "worksheet.write('A1', 'filename')\n",
    "worksheet.write('B1', 'image')\n",
    "worksheet.write('C1', 'label')\n",
    "\n",
    "filenames = os.listdir(Config.EXTRACTED_FACES_PATH)\n",
    "sorted_by_albumpage_filenames = sorted(filenames, key = lambda x: int(x.replace('a','').split('_')[0]))\n",
    "\n",
    "for i, filename in enumerate(sorted_by_albumpage_filenames, start = 2):\n",
    "    img_file_path = os.path.join(Config.EXTRACTED_FACES_PATH, filename)\n",
    "    xls_height = get_xlsx_height(img_file_path)\n",
    "    worksheet.insert_image(f'B{i}', img_file_path)\n",
    "    worksheet.write(f'A{i}', filename)\n",
    "    worksheet.set_row(i-1, xls_height)\n",
    "workbook.close()"
   ]
  }
 ],
 "metadata": {
  "kernelspec": {
   "display_name": "Python 3",
   "language": "python",
   "name": "python3"
  },
  "language_info": {
   "codemirror_mode": {
    "name": "ipython",
    "version": 3
   },
   "file_extension": ".py",
   "mimetype": "text/x-python",
   "name": "python",
   "nbconvert_exporter": "python",
   "pygments_lexer": "ipython3",
   "version": "3.8.2"
  }
 },
 "nbformat": 4,
 "nbformat_minor": 4
}
