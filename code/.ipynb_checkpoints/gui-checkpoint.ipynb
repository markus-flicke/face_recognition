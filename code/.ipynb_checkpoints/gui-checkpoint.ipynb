{
 "cells": [
  {
   "cell_type": "markdown",
   "metadata": {
    "pycharm": {
     "name": "#%% md\n"
    }
   },
   "source": [
    "# Face Clustering for Photo Albums\n"
   ]
  },
  {
   "cell_type": "markdown",
   "metadata": {
    "pycharm": {
     "name": "#%% md\n"
    }
   },
   "source": [
    "## Imports"
   ]
  },
  {
   "cell_type": "code",
   "execution_count": 2,
   "metadata": {},
   "outputs": [
    {
     "data": {
      "application/javascript": [
       "IPython.OutputArea.prototype._should_scroll = function(lines) {\n",
       "    return false;\n",
       "}\n"
      ],
      "text/plain": [
       "<IPython.core.display.Javascript object>"
      ]
     },
     "metadata": {},
     "output_type": "display_data"
    }
   ],
   "source": [
    "%%javascript\n",
    "IPython.OutputArea.prototype._should_scroll = function(lines) {\n",
    "    return false;\n",
    "}"
   ]
  },
  {
   "cell_type": "code",
   "execution_count": 1,
   "metadata": {
    "pycharm": {
     "is_executing": false,
     "name": "#%%\n"
    }
   },
   "outputs": [],
   "source": [
    "import warnings\n",
    "warnings.filterwarnings('ignore')\n",
    "import os\n",
    "import sys\n",
    "import numpy as np\n",
    "from pathlib import Path\n",
    "import ipywidgets as widgets\n",
    "from IPython.core.display import display\n",
    "from ipywidgets import interact, interact_manual\n",
    "from ipywidgets import Button, HBox, VBox, GridspecLayout, Layout\n",
    "import cv2 \n",
    "from matplotlib import pyplot as plt\n",
    "import src.FaceRecogniser.clustering as clustering\n",
    "import src.DataLoader\n",
    "import src.FaceRecogniser.VGG2.vgg2 as vgg2\n",
    "data_loader = src.DataLoader.DataLoader()\n"
   ]
  },
  {
   "cell_type": "markdown",
   "metadata": {},
   "source": [
    "## Extract Features"
   ]
  },
  {
   "cell_type": "code",
   "execution_count": 3,
   "metadata": {},
   "outputs": [
    {
     "data": {
      "application/vnd.jupyter.widget-view+json": {
       "model_id": "8c7afee846fe40a3954548d2f57a111d",
       "version_major": 2,
       "version_minor": 0
      },
      "text/plain": [
       "Text(value='C:\\\\AX', description='Path:', placeholder='Type something')"
      ]
     },
     "metadata": {},
     "output_type": "display_data"
    },
    {
     "data": {
      "application/vnd.jupyter.widget-view+json": {
       "model_id": "b822421f3c3f4537a06447c4f3ad3e7a",
       "version_major": 2,
       "version_minor": 0
      },
      "text/plain": [
       "RadioButtons(description='Mode:', options=('Scanned Album', 'Image(s)'), value='Scanned Album')"
      ]
     },
     "metadata": {},
     "output_type": "display_data"
    },
    {
     "data": {
      "application/vnd.jupyter.widget-view+json": {
       "model_id": "a1f5162b82044dbfb00ef6feb9ea8e13",
       "version_major": 2,
       "version_minor": 0
      },
      "text/plain": [
       "Button(button_style='info', description='Extract Faces', style=ButtonStyle())"
      ]
     },
     "metadata": {},
     "output_type": "display_data"
    },
    {
     "data": {
      "application/vnd.jupyter.widget-view+json": {
       "model_id": "c9a585a1b2854e868e43fd7bac103201",
       "version_major": 2,
       "version_minor": 0
      },
      "text/plain": [
       "Button(button_style='primary', description='Extract Features', style=ButtonStyle())"
      ]
     },
     "metadata": {},
     "output_type": "display_data"
    },
    {
     "data": {
      "application/vnd.jupyter.widget-view+json": {
       "model_id": "423140ffdd5f479c8db1adffbfbfa9af",
       "version_major": 2,
       "version_minor": 0
      },
      "text/plain": [
       "Label(value=\"If you have already extracted the faces once for this folder you can press 'Extract Features' rig…"
      ]
     },
     "metadata": {},
     "output_type": "display_data"
    },
    {
     "ename": "AttributeError",
     "evalue": "module 'src.DataLoader' has no attribute 'extract_faces_from_folder'",
     "output_type": "error",
     "traceback": [
      "\u001b[1;31m---------------------------------------------------------------------------\u001b[0m",
      "\u001b[1;31mAttributeError\u001b[0m                            Traceback (most recent call last)",
      "\u001b[1;32m<ipython-input-3-a9d414ec3d4c>\u001b[0m in \u001b[0;36mextract_faces\u001b[1;34m(b)\u001b[0m\n\u001b[0;32m     27\u001b[0m     \u001b[0mset_buttons_enabled\u001b[0m\u001b[1;33m(\u001b[0m\u001b[1;32mFalse\u001b[0m\u001b[1;33m)\u001b[0m\u001b[1;33m\u001b[0m\u001b[1;33m\u001b[0m\u001b[0m\n\u001b[0;32m     28\u001b[0m     \u001b[0minformation_label\u001b[0m\u001b[1;33m.\u001b[0m\u001b[0mvalue\u001b[0m \u001b[1;33m=\u001b[0m \u001b[1;34m\"Face Extraction is in progress. Please wait.\"\u001b[0m\u001b[1;33m\u001b[0m\u001b[1;33m\u001b[0m\u001b[0m\n\u001b[1;32m---> 29\u001b[1;33m     \u001b[0mdata_loader\u001b[0m\u001b[1;33m.\u001b[0m\u001b[0mextract_faces_from_folder\u001b[0m\u001b[1;33m(\u001b[0m\u001b[0mimage_folder\u001b[0m\u001b[1;33m,\u001b[0m \u001b[0misAlbum\u001b[0m\u001b[1;33m)\u001b[0m\u001b[1;33m\u001b[0m\u001b[1;33m\u001b[0m\u001b[0m\n\u001b[0m\u001b[0;32m     30\u001b[0m     \u001b[0minformation_label\u001b[0m\u001b[1;33m.\u001b[0m\u001b[0mvalue\u001b[0m \u001b[1;33m=\u001b[0m \u001b[1;34m\"Faces have been extracted, you can start the feature extraction now\"\u001b[0m\u001b[1;33m\u001b[0m\u001b[1;33m\u001b[0m\u001b[0m\n\u001b[0;32m     31\u001b[0m     \u001b[0mset_buttons_enabled\u001b[0m\u001b[1;33m(\u001b[0m\u001b[1;32mTrue\u001b[0m\u001b[1;33m)\u001b[0m\u001b[1;33m\u001b[0m\u001b[1;33m\u001b[0m\u001b[0m\n",
      "\u001b[1;31mAttributeError\u001b[0m: module 'src.DataLoader' has no attribute 'extract_faces_from_folder'"
     ]
    }
   ],
   "source": [
    "radio = widgets.RadioButtons(\n",
    "    options=['Scanned Album', 'Image(s)'],\n",
    "    description='Mode:',\n",
    "    disabled=False\n",
    ")\n",
    "information_label = widgets.Label(value=\"If you have already extracted the faces once for this folder you can press 'Extract Features' right away\")\n",
    "button_extract_faces = Button(description=\"Extract Faces\", button_style= 'info')\n",
    "button_extract_embeddings = Button(description=\"Extract Features\", button_style = 'primary')\n",
    "\n",
    "image_folder_box = widgets.Text(\n",
    "    value=r'C:\\AX',\n",
    "    placeholder='Type something',\n",
    "    description='Path:',\n",
    "    disabled=False\n",
    ")\n",
    "\n",
    "extraction_out = widgets.Output(\n",
    "    layout = {'max_height':'0px'}\n",
    ")\n",
    "embeddings =[]\n",
    "\n",
    "def set_buttons_enabled(enabled):\n",
    "    button_extract_faces.disabled = not enabled\n",
    "    button_extract_embeddings.disabled = not enabled\n",
    "    \n",
    "def extract_faces(b):\n",
    "    set_buttons_enabled(False)\n",
    "    information_label.value = \"Face Extraction is in progress. Please wait.\"\n",
    "    data_loader.extract_faces_from_folder(image_folder, isAlbum)\n",
    "    information_label.value = \"Faces have been extracted, you can start the feature extraction now\"\n",
    "    set_buttons_enabled(True)\n",
    "    \n",
    "def extract_embeddings(b):\n",
    "    with extraction_out:\n",
    "        global embeddings\n",
    "        global face_imgs\n",
    "        set_buttons_enabled(False)\n",
    "        information_label.value = \"Feature Extraction is in progress. Please wait.\"\n",
    "        isAlbum = False\n",
    "        if radio.value == 'Scanned Album':\n",
    "            isAlbum=True\n",
    "        embeddings, face_imgs = vgg2.get_embeddings_and_paths(image_folder_box.value)\n",
    "        information_label.value = \"Features have been extracted, you can now start clustering\"\n",
    "        set_buttons_enabled(True) \n",
    "\n",
    "button_extract_faces.on_click(extract_faces)\n",
    "button_extract_embeddings.on_click(extract_embeddings)\n",
    "display(image_folder_box)\n",
    "display(radio)\n",
    "display(button_extract_faces)\n",
    "display(button_extract_embeddings)\n",
    "display(information_label)"
   ]
  },
  {
   "cell_type": "markdown",
   "metadata": {
    "pycharm": {
     "name": "#%% md\n"
    }
   },
   "source": [
    "## Cluster Faces"
   ]
  },
  {
   "cell_type": "code",
   "execution_count": 5,
   "metadata": {
    "pycharm": {
     "is_executing": false,
     "name": "#%%\n"
    }
   },
   "outputs": [
    {
     "data": {
      "application/vnd.jupyter.widget-view+json": {
       "model_id": "42e92f5d260342ed91d0e558d890cae9",
       "version_major": 2,
       "version_minor": 0
      },
      "text/plain": [
       "interactive(children=(IntSlider(value=20, continuous_update=False, description='Threshold:', min=1), IntText(v…"
      ]
     },
     "metadata": {},
     "output_type": "display_data"
    },
    {
     "data": {
      "application/vnd.jupyter.widget-view+json": {
       "model_id": "012465dcb378456d9ff186ba627d7e23",
       "version_major": 2,
       "version_minor": 0
      },
      "text/plain": [
       "Button(button_style='info', description='Show Preview', icon='image', style=ButtonStyle(), tooltip='Zeigt Prev…"
      ]
     },
     "metadata": {},
     "output_type": "display_data"
    },
    {
     "data": {
      "application/vnd.jupyter.widget-view+json": {
       "model_id": "e0b5d1d5da85475baf906a3c3ccf5eac",
       "version_major": 2,
       "version_minor": 0
      },
      "text/plain": [
       "Output(layout=Layout(border='1px solid black'))"
      ]
     },
     "metadata": {},
     "output_type": "display_data"
    },
    {
     "data": {
      "application/vnd.jupyter.widget-view+json": {
       "model_id": "2ea12f9543064b1a88bdfdeb0cd4f317",
       "version_major": 2,
       "version_minor": 0
      },
      "text/plain": [
       "Button(button_style='success', description='Save', icon='save', style=ButtonStyle(), tooltip='Speichert in Pre…"
      ]
     },
     "metadata": {},
     "output_type": "display_data"
    }
   ],
   "source": [
    "threshold_slider = widgets.IntSlider(\n",
    "    value=20,\n",
    "    min=1,\n",
    "    max=100,\n",
    "    step=1,\n",
    "    description='Threshold:',\n",
    "    disabled=False,\n",
    "    continuous_update=False,\n",
    "    orientation='horizontal',\n",
    "    readout=True,\n",
    ")\n",
    "\n",
    "predictions = []\n",
    "\n",
    "min_cluster_size_field = widgets.IntText(\n",
    "    value=2,\n",
    "    description='Min. Faces per  Cluster:',\n",
    "    disabled=False\n",
    ")\n",
    "\n",
    "@interact\n",
    "def cluster(threshold = threshold_slider, min_cluster_size = min_cluster_size_field):\n",
    "    if len(embeddings)!=0:\n",
    "        global predictions\n",
    "        predictions, cluster_count, avg_imgs_per_cluster, closest_clusters = clustering.get_clusters(embeddings,threshold, min_cluster_size)\n",
    "        print(\"No of Clusters: \" +  \"\\x1b[31m \"+str(cluster_count)+ \"\\x1b[0m\")\n",
    "        print(\"Avg Images per Cluster: \" +  \"\\x1b[31m \"+str(round(avg_imgs_per_cluster))+ \"\\x1b[0m\" )    \n",
    "        # print(\"Class for every Face (-1 stands for undetected)\\n\")\n",
    "        # print(\"\\n Clusters:\")\n",
    "        # print(predictions)\n",
    "        # print(closest_clusters)\n",
    "    else:\n",
    "        print(\"No embeddings available, extract Features first.\")\n",
    "    \n",
    "preview_button =widgets.Button(\n",
    "    description='Show Preview',\n",
    "    disabled=False,\n",
    "    button_style='info', \n",
    "    tooltip='Zeigt Preview für die generierten Cluster an',\n",
    "    icon='image' # (FontAwesome names without the `fa-` prefix)\n",
    ")\n",
    "\n",
    "    \n",
    "save_button =widgets.Button(\n",
    "    description='Save',\n",
    "    disabled=False,\n",
    "    button_style='success', \n",
    "    tooltip='Speichert in Preview generierte/eingetragene Infos in csv',\n",
    "    icon='save' # (FontAwesome names without the `fa-` prefix)\n",
    ")\n",
    "\n",
    "\n",
    "out = widgets.Output(\n",
    "    layout = {'border':'1px solid black'}\n",
    ")\n",
    "label_info = {}\n",
    "cluster_box = None\n",
    "same_checkboxes = None\n",
    "correct_checkboxes = None\n",
    "def save(b):\n",
    "    global label_info\n",
    "    print(predictions)\n",
    "    for label in label_info:\n",
    "        info = label_info[label]\n",
    "        print('cluster label: ' + str(label))\n",
    "        print('name in textbox: ' + str(info[0].value))\n",
    "        print('closest cluster label: ' + str(info[1]))\n",
    "        print('correct checkbox value: ' + str(info[2].value))\n",
    "        print('same checkbox value: ' + str(info[3].value))\n",
    "        print('\\n')\n",
    "    # print(face_imgs)\n",
    "\n",
    "def show_preview(b):\n",
    "    with out:\n",
    "        out.clear_output()\n",
    "        if len(embeddings)!=0:\n",
    "            threshold = threshold_slider.value\n",
    "            min_cluster_size =  min_cluster_size_field.value\n",
    "            predictions, cluster_count, avg_imgs_per_cluster, closest_clusters = clustering.get_clusters(embeddings,threshold,min_cluster_size)\n",
    "            min_cluster_size  = 1\n",
    "            max_images_per_plot = 3\n",
    "            labels = np.unique(predictions)\n",
    "            labels = labels[labels > -1]\n",
    "            global label_info\n",
    "            global correct_checkboxes\n",
    "            all_clusters_box = []\n",
    "            heading = GridspecLayout(1, 7, layout = {'overflow':'hidden'})\n",
    "            heading[0,0] = widgets.HTML(value = f\"<b>Predicted Cluster</b>\")\n",
    "            heading[0,4] = widgets.HTML(value = f\"<b>Closest Cluster</b>\")\n",
    "            all_clusters_box.append(heading)\n",
    "            for idx, label in enumerate(labels):\n",
    "                image_indices = np.where(predictions == label)[0]\n",
    "                closest_cluster_label = closest_clusters[label]\n",
    "                closest_cluster_indices = np.where(predictions == closest_cluster_label)[0]\n",
    "                if image_indices.shape[0] >= min_cluster_size:\n",
    "                    cluster_box = []\n",
    "                    grid = GridspecLayout(1, 7, layout = {'overflow':'hidden','align_items':'center', 'margin': '0px 0px 15px 0px'})\n",
    "                    columns = min(image_indices.shape[0], max_images_per_plot)\n",
    "                    for i in range(columns):\n",
    "                        file = open(face_imgs[image_indices[i]], \"rb\")\n",
    "                        image = file.read()\n",
    "                        img = widgets.Image(\n",
    "                            value= image,\n",
    "                            format='png',\n",
    "                            width=200,\n",
    "                            height=200,\n",
    "                        )\n",
    "                        grid[0,i] = img \n",
    "\n",
    "                    same_cbox = widgets.Checkbox(False, description='Same?', layout = Layout(width = 'auto', justify_content = 'center'), indent = False)\n",
    "                    grid[0,3] = same_cbox\n",
    "                    columns = min(closest_cluster_indices.shape[0], max_images_per_plot)\n",
    "                    for i in range(columns):\n",
    "                        file = open(face_imgs[closest_cluster_indices[i]], \"rb\")\n",
    "                        image = file.read()\n",
    "                        img = widgets.Image(\n",
    "                            value= image,\n",
    "                            format='png',\n",
    "                            width=200,\n",
    "                            height=200,\n",
    "                        )\n",
    "                        grid[0,4+i] = img \n",
    "                    name = widgets.Text(\n",
    "                        value=str(idx),\n",
    "                        placeholder='Enter Name',\n",
    "                        description='Name:',\n",
    "                        disabled=False,\n",
    "                        layout = {'margin':'0px 0px 10px 0px'}\n",
    "                    )\n",
    "                    correct_cbox = widgets.Checkbox(True, description='Correct?', indent = False, layout = {'margin': '0px 0px 0px 15px'})\n",
    "                    label_info[label] = [name,closest_cluster_label,correct_cbox,same_cbox]\n",
    "                    cluster_box.append(grid)\n",
    "                    \n",
    "                    cluster_box.append(HBox([name, correct_cbox]))\n",
    "                    v_cluster_box = VBox(cluster_box)\n",
    "                    v_cluster_box.layout.border = '1px solid black'\n",
    "                    v_cluster_box.layout.padding = '5px'\n",
    "                    all_clusters_box.append(v_cluster_box)\n",
    "            cluster_box = VBox(all_clusters_box)\n",
    "            display(cluster_box)\n",
    "        else:\n",
    "            print(\"No embeddings available, go back and extract Features first.\")     \n",
    "preview_button.on_click(show_preview)    \n",
    "save_button.on_click(save)\n",
    "display(preview_button)\n",
    "display(out)\n",
    "display(save_button)\n"
   ]
  },
  {
   "cell_type": "code",
   "execution_count": null,
   "metadata": {},
   "outputs": [],
   "source": []
  }
 ],
 "metadata": {
  "kernelspec": {
   "display_name": "Python 3",
   "language": "python",
   "name": "python3"
  },
  "language_info": {
   "codemirror_mode": {
    "name": "ipython",
    "version": 3
   },
   "file_extension": ".py",
   "mimetype": "text/x-python",
   "name": "python",
   "nbconvert_exporter": "python",
   "pygments_lexer": "ipython3",
   "version": "3.7.5"
  },
  "pycharm": {
   "stem_cell": {
    "cell_type": "raw",
    "metadata": {
     "collapsed": false
    },
    "source": []
   }
  }
 },
 "nbformat": 4,
 "nbformat_minor": 4
}
