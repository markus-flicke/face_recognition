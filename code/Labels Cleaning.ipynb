{
 "cells": [
  {
   "cell_type": "markdown",
   "metadata": {},
   "source": [
    "### Data Cleaning on Faces labels"
   ]
  },
  {
   "cell_type": "code",
   "execution_count": 10,
   "metadata": {},
   "outputs": [],
   "source": [
    "import pandas as pd\n",
    "import os\n",
    "from src import Config"
   ]
  },
  {
   "cell_type": "code",
   "execution_count": 11,
   "metadata": {},
   "outputs": [],
   "source": [
    "labels_df = pd.read_excel(os.path.join(Config.ANDREAS_ALBUMS_PATH, 'Labels.xlsx'))[['filename', 'label']]"
   ]
  },
  {
   "cell_type": "markdown",
   "metadata": {},
   "source": [
    "The same label may never be found for two different faces on the same picture. In this case one of the two possible mistakes have been made: \n",
    "1. Failure in labelling\n",
    "    * Two different faces have been given the same label\n",
    "2. Failure in extraction\n",
    "    * The same face has been extracted twice"
   ]
  },
  {
   "cell_type": "code",
   "execution_count": 12,
   "metadata": {},
   "outputs": [],
   "source": [
    "for i, row in enumerate(labels_df.values):\n",
    "    photo_name = '_'.join(row[0].split('_')[:2])\n",
    "\n",
    "    labels_same_photo_df = labels_df[labels_df.filename.apply(lambda fname: fname.startswith(photo_name))].label\n",
    "    if labels_same_photo_df.value_counts()[row[1]] != 1:\n",
    "        labels_df = labels_df.drop(i)\n",
    "        raise Exception(f'{row[0]} Has the same label as another face on the same picture!')"
   ]
  },
  {
   "cell_type": "markdown",
   "metadata": {},
   "source": [
    "Writing the Labels without Pictures to a csv file"
   ]
  },
  {
   "cell_type": "code",
   "execution_count": 13,
   "metadata": {},
   "outputs": [],
   "source": [
    "labels_df.to_csv(os.path.join(Config.ANDREAS_ALBUMS_PATH, 'labels.csv'), index = False)"
   ]
  },
  {
   "cell_type": "code",
   "execution_count": null,
   "metadata": {},
   "outputs": [],
   "source": []
  }
 ],
 "metadata": {
  "kernelspec": {
   "display_name": "Python 3",
   "language": "python",
   "name": "python3"
  },
  "language_info": {
   "codemirror_mode": {
    "name": "ipython",
    "version": 3
   },
   "file_extension": ".py",
   "mimetype": "text/x-python",
   "name": "python",
   "nbconvert_exporter": "python",
   "pygments_lexer": "ipython3",
   "version": "3.8.2"
  }
 },
 "nbformat": 4,
 "nbformat_minor": 4
}
