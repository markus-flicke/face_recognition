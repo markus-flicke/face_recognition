{
 "cells": [
  {
   "cell_type": "markdown",
   "metadata": {},
   "source": [
    "### Data Cleaning on Faces labels"
   ]
  },
  {
   "cell_type": "code",
   "execution_count": 42,
   "metadata": {},
   "outputs": [],
   "source": [
    "import pandas as pd\n",
    "import os"
   ]
  },
  {
   "cell_type": "code",
   "execution_count": 43,
   "metadata": {},
   "outputs": [],
   "source": [
    "labels_df = pd.read_excel(os.path.join('dat', 'Labels.xlsx'))[['filename', 'label']]"
   ]
  },
  {
   "cell_type": "markdown",
   "metadata": {},
   "source": [
    "Some labels appear twice on a picture, because duplicates were introduced during reading the photo albums.  \n",
    "Now, I remove those (few) duplicates"
   ]
  },
  {
   "cell_type": "code",
   "execution_count": 44,
   "metadata": {},
   "outputs": [
    {
     "name": "stdout",
     "output_type": "stream",
     "text": [
      "dropped 15_2_3.png\n",
      "dropped 16_0_8.png\n",
      "dropped 21_0_2.png\n",
      "dropped 21_0_4.png\n",
      "dropped 22_0_2.png\n",
      "dropped 30_0_4.png\n",
      "dropped 30_3_0.png\n",
      "dropped 30_1_2.png\n",
      "dropped 47_2_3.png\n",
      "dropped 48_3_0.png\n",
      "dropped 48_3_7.png\n",
      "dropped 48_3_6.png\n",
      "dropped 48_3_8.png\n"
     ]
    }
   ],
   "source": [
    "for i, row in enumerate(labels_df.values):\n",
    "    photo_name = '_'.join(row[0].split('_')[:2])\n",
    "\n",
    "    labels_same_photo_df = labels_df[labels_df.filename.apply(lambda fname: fname.startswith(photo_name))].label\n",
    "    if labels_same_photo_df.value_counts()[row[1]] != 1:\n",
    "        labels_df = labels_df.drop(i)\n",
    "        print(f'dropped {row[0]}')"
   ]
  },
  {
   "cell_type": "markdown",
   "metadata": {},
   "source": [
    "Writing the Labels without Pictures to a csv file"
   ]
  },
  {
   "cell_type": "code",
   "execution_count": 45,
   "metadata": {},
   "outputs": [],
   "source": [
    "labels_df.to_csv(os.path.join('dat', 'labels.csv'), index = False)"
   ]
  },
  {
   "cell_type": "code",
   "execution_count": null,
   "metadata": {},
   "outputs": [],
   "source": []
  }
 ],
 "metadata": {
  "kernelspec": {
   "display_name": "Python 3",
   "language": "python",
   "name": "python3"
  },
  "language_info": {
   "codemirror_mode": {
    "name": "ipython",
    "version": 3
   },
   "file_extension": ".py",
   "mimetype": "text/x-python",
   "name": "python",
   "nbconvert_exporter": "python",
   "pygments_lexer": "ipython3",
   "version": "3.8.2"
  }
 },
 "nbformat": 4,
 "nbformat_minor": 4
}
