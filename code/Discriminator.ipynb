{
 "cells": [
  {
   "cell_type": "markdown",
   "metadata": {},
   "source": [
    "Try to find the similar faces to 02_4_1.png.  \n",
    "They should be 02_3_1.png, 02_1_0.png and maybe 02_1_1.png"
   ]
  },
  {
   "cell_type": "code",
   "execution_count": 1,
   "metadata": {},
   "outputs": [],
   "source": [
    "import cv2\n",
    "photo_filepath = 'dat/extracted_faces/' + '02_4_1.png'\n",
    "img = cv2.imread(photo_filepath, cv2.IMREAD_COLOR)"
   ]
  },
  {
   "cell_type": "code",
   "execution_count": 2,
   "metadata": {},
   "outputs": [],
   "source": [
    "photo_filepath = 'dat/extracted_faces/' + '02_4_0.png'\n",
    "different_img = cv2.imread(photo_filepath, cv2.IMREAD_COLOR)"
   ]
  },
  {
   "cell_type": "code",
   "execution_count": 3,
   "metadata": {},
   "outputs": [],
   "source": [
    "photo_filepath = 'dat/extracted_faces/' + '02_3_1.png'\n",
    "similar_img = cv2.imread(photo_filepath, cv2.IMREAD_COLOR)"
   ]
  },
  {
   "cell_type": "code",
   "execution_count": 4,
   "metadata": {},
   "outputs": [
    {
     "data": {
      "text/plain": [
       "<module 'cv2.cv2' from '/home/m/.local/lib/python3.8/site-packages/cv2/cv2.cpython-38-x86_64-linux-gnu.so'>"
      ]
     },
     "execution_count": 4,
     "metadata": {},
     "output_type": "execute_result"
    }
   ],
   "source": [
    "cv2"
   ]
  },
  {
   "cell_type": "code",
   "execution_count": 11,
   "metadata": {},
   "outputs": [],
   "source": [
    "from cv2.face import LBPHFaceRecognizer_create"
   ]
  },
  {
   "cell_type": "code",
   "execution_count": 13,
   "metadata": {},
   "outputs": [
    {
     "data": {
      "text/plain": [
       "['__class__',\n",
       " '__delattr__',\n",
       " '__dir__',\n",
       " '__doc__',\n",
       " '__eq__',\n",
       " '__format__',\n",
       " '__ge__',\n",
       " '__getattribute__',\n",
       " '__gt__',\n",
       " '__hash__',\n",
       " '__init__',\n",
       " '__init_subclass__',\n",
       " '__le__',\n",
       " '__lt__',\n",
       " '__ne__',\n",
       " '__new__',\n",
       " '__reduce__',\n",
       " '__reduce_ex__',\n",
       " '__repr__',\n",
       " '__setattr__',\n",
       " '__sizeof__',\n",
       " '__str__',\n",
       " '__subclasshook__',\n",
       " 'clear',\n",
       " 'create',\n",
       " 'empty',\n",
       " 'getDefaultName',\n",
       " 'getGridX',\n",
       " 'getGridY',\n",
       " 'getHistograms',\n",
       " 'getLabelInfo',\n",
       " 'getLabels',\n",
       " 'getLabelsByString',\n",
       " 'getNeighbors',\n",
       " 'getRadius',\n",
       " 'getThreshold',\n",
       " 'predict',\n",
       " 'predict_collect',\n",
       " 'predict_label',\n",
       " 'read',\n",
       " 'save',\n",
       " 'setGridX',\n",
       " 'setGridY',\n",
       " 'setLabelInfo',\n",
       " 'setNeighbors',\n",
       " 'setRadius',\n",
       " 'setThreshold',\n",
       " 'train',\n",
       " 'update',\n",
       " 'write']"
      ]
     },
     "execution_count": 13,
     "metadata": {},
     "output_type": "execute_result"
    }
   ],
   "source": [
    "dir(LBPHFaceRecognizer_create())"
   ]
  },
  {
   "cell_type": "code",
   "execution_count": null,
   "metadata": {},
   "outputs": [],
   "source": []
  }
 ],
 "metadata": {
  "kernelspec": {
   "display_name": "Python 3",
   "language": "python",
   "name": "python3"
  },
  "language_info": {
   "codemirror_mode": {
    "name": "ipython",
    "version": 3
   },
   "file_extension": ".py",
   "mimetype": "text/x-python",
   "name": "python",
   "nbconvert_exporter": "python",
   "pygments_lexer": "ipython3",
   "version": "3.8.2"
  }
 },
 "nbformat": 4,
 "nbformat_minor": 4
}
